{
 "cells": [
  {
   "cell_type": "code",
   "execution_count": 2,
   "metadata": {
    "collapsed": false
   },
   "outputs": [],
   "source": [
    "import pandas as pd"
   ]
  },
  {
   "cell_type": "code",
   "execution_count": 29,
   "metadata": {
    "collapsed": false
   },
   "outputs": [],
   "source": [
    "data = pd.read_csv('/Users/macbook/pythonProjects/Master/iPythonNotebooks/restaurantPandas/taphouse.csv', error_bad_lines=False)"
   ]
  },
  {
   "cell_type": "code",
   "execution_count": 30,
   "metadata": {
    "collapsed": false
   },
   "outputs": [
    {
     "data": {
      "text/html": [
       "<div>\n",
       "<table border=\"1\" class=\"dataframe\">\n",
       "  <thead>\n",
       "    <tr style=\"text-align: right;\">\n",
       "      <th></th>\n",
       "      <th>Date</th>\n",
       "      <th>lunch</th>\n",
       "      <th>dinner</th>\n",
       "      <th>total</th>\n",
       "      <th>hours</th>\n",
       "    </tr>\n",
       "  </thead>\n",
       "  <tbody>\n",
       "    <tr>\n",
       "      <th>0</th>\n",
       "      <td>8/5/15</td>\n",
       "      <td>NaN</td>\n",
       "      <td>91</td>\n",
       "      <td>NaN</td>\n",
       "      <td>5</td>\n",
       "    </tr>\n",
       "    <tr>\n",
       "      <th>1</th>\n",
       "      <td>8/6/15</td>\n",
       "      <td>NaN</td>\n",
       "      <td>100</td>\n",
       "      <td>NaN</td>\n",
       "      <td>5</td>\n",
       "    </tr>\n",
       "    <tr>\n",
       "      <th>2</th>\n",
       "      <td>8/7/15</td>\n",
       "      <td>NaN</td>\n",
       "      <td>160</td>\n",
       "      <td>NaN</td>\n",
       "      <td>10</td>\n",
       "    </tr>\n",
       "    <tr>\n",
       "      <th>3</th>\n",
       "      <td>8/8/15</td>\n",
       "      <td>NaN</td>\n",
       "      <td>160</td>\n",
       "      <td>NaN</td>\n",
       "      <td>8</td>\n",
       "    </tr>\n",
       "    <tr>\n",
       "      <th>4</th>\n",
       "      <td>8/9/15</td>\n",
       "      <td>NaN</td>\n",
       "      <td>75</td>\n",
       "      <td>NaN</td>\n",
       "      <td>8</td>\n",
       "    </tr>\n",
       "  </tbody>\n",
       "</table>\n",
       "</div>"
      ],
      "text/plain": [
       "     Date lunch  dinner  total  hours\n",
       "0  8/5/15   NaN      91    NaN      5\n",
       "1  8/6/15   NaN     100    NaN      5\n",
       "2  8/7/15   NaN     160    NaN     10\n",
       "3  8/8/15   NaN     160    NaN      8\n",
       "4  8/9/15   NaN      75    NaN      8"
      ]
     },
     "execution_count": 30,
     "metadata": {},
     "output_type": "execute_result"
    }
   ],
   "source": [
    "data.head()"
   ]
  },
  {
   "cell_type": "code",
   "execution_count": 31,
   "metadata": {
    "collapsed": false
   },
   "outputs": [
    {
     "name": "stdout",
     "output_type": "stream",
     "text": [
      "       Date lunch  dinner  total  hours\n",
      "0    8/5/15   NaN      91    NaN      5\n",
      "1    8/6/15   NaN     100    NaN      5\n",
      "2    8/7/15   NaN     160    NaN     10\n",
      "3    8/8/15   NaN     160    NaN      8\n",
      "4    8/9/15   NaN      75    NaN      8\n",
      "5   8/10/15   off     NaN    NaN    NaN\n",
      "6   8/11/15   off     NaN    NaN    NaN\n",
      "7   8/12/15   off       0    NaN    NaN\n",
      "8   8/13/15   NaN     NaN    NaN    NaN\n",
      "9   8/14/15   NaN     NaN    NaN    NaN\n",
      "10  8/15/15   NaN     NaN    NaN    NaN\n",
      "11  8/16/15   NaN     NaN    NaN    NaN\n",
      "12  8/17/15   NaN     NaN    NaN    NaN\n",
      "13  8/18/15   NaN     NaN    NaN    NaN\n",
      "14  8/19/15   NaN     NaN    NaN    NaN\n",
      "15  8/20/15   NaN     NaN    NaN    NaN\n",
      "16  8/21/15   NaN     NaN    NaN    NaN\n",
      "17  8/22/15   NaN     NaN    NaN    NaN\n",
      "18  8/23/15   NaN     NaN    NaN    NaN\n",
      "19  8/24/15   NaN     NaN    NaN    NaN\n",
      "20  8/25/15   NaN     NaN    NaN    NaN\n",
      "21  8/26/15   NaN     NaN    NaN    NaN\n",
      "22  8/27/15   NaN     NaN    NaN    NaN\n"
     ]
    }
   ],
   "source": [
    "print data\n"
   ]
  },
  {
   "cell_type": "code",
   "execution_count": 32,
   "metadata": {
    "collapsed": false
   },
   "outputs": [
    {
     "data": {
      "text/plain": [
       "<matplotlib.axes._subplots.AxesSubplot at 0x1065e1e50>"
      ]
     },
     "execution_count": 32,
     "metadata": {},
     "output_type": "execute_result"
    }
   ],
   "source": [
    "data.plot(kind='area')"
   ]
  },
  {
   "cell_type": "code",
   "execution_count": null,
   "metadata": {
    "collapsed": true
   },
   "outputs": [],
   "source": []
  }
 ],
 "metadata": {
  "kernelspec": {
   "display_name": "Python 2",
   "language": "python",
   "name": "python2"
  },
  "language_info": {
   "codemirror_mode": {
    "name": "ipython",
    "version": 2
   },
   "file_extension": ".py",
   "mimetype": "text/x-python",
   "name": "python",
   "nbconvert_exporter": "python",
   "pygments_lexer": "ipython2",
   "version": "2.7.9"
  }
 },
 "nbformat": 4,
 "nbformat_minor": 0
}
