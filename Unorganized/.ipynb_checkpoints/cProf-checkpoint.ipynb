{
 "cells": [
  {
   "cell_type": "code",
   "execution_count": 8,
   "metadata": {
    "collapsed": false
   },
   "outputs": [
    {
     "name": "stdout",
     "output_type": "stream",
     "text": [
      "         64 function calls in 0.000 seconds\n",
      "\n",
      "   Ordered by: standard name\n",
      "\n",
      "   ncalls  tottime  percall  cumtime  percall filename:lineno(function)\n",
      "        1    0.000    0.000    0.000    0.000 <string>:1(<module>)\n",
      "        1    0.000    0.000    0.000    0.000 re.py:192(compile)\n",
      "        1    0.000    0.000    0.000    0.000 re.py:230(_compile)\n",
      "        1    0.000    0.000    0.000    0.000 sre_compile.py:433(_compile_info)\n",
      "        2    0.000    0.000    0.000    0.000 sre_compile.py:546(isstring)\n",
      "        1    0.000    0.000    0.000    0.000 sre_compile.py:552(_code)\n",
      "        1    0.000    0.000    0.000    0.000 sre_compile.py:567(compile)\n",
      "        1    0.000    0.000    0.000    0.000 sre_compile.py:64(_compile)\n",
      "        1    0.000    0.000    0.000    0.000 sre_parse.py:147(append)\n",
      "        1    0.000    0.000    0.000    0.000 sre_parse.py:149(getwidth)\n",
      "        1    0.000    0.000    0.000    0.000 sre_parse.py:187(__init__)\n",
      "        4    0.000    0.000    0.000    0.000 sre_parse.py:191(__next)\n",
      "        1    0.000    0.000    0.000    0.000 sre_parse.py:204(match)\n",
      "        3    0.000    0.000    0.000    0.000 sre_parse.py:210(get)\n",
      "        1    0.000    0.000    0.000    0.000 sre_parse.py:310(_parse_sub)\n",
      "        1    0.000    0.000    0.000    0.000 sre_parse.py:388(_parse)\n",
      "        1    0.000    0.000    0.000    0.000 sre_parse.py:67(__init__)\n",
      "        1    0.000    0.000    0.000    0.000 sre_parse.py:686(parse)\n",
      "        1    0.000    0.000    0.000    0.000 sre_parse.py:90(__init__)\n",
      "        1    0.000    0.000    0.000    0.000 {_sre.compile}\n",
      "        3    0.000    0.000    0.000    0.000 {isinstance}\n",
      "       15    0.000    0.000    0.000    0.000 {len}\n",
      "       13    0.000    0.000    0.000    0.000 {method 'append' of 'list' objects}\n",
      "        1    0.000    0.000    0.000    0.000 {method 'disable' of '_lsprof.Profiler' objects}\n",
      "        2    0.000    0.000    0.000    0.000 {method 'extend' of 'list' objects}\n",
      "        1    0.000    0.000    0.000    0.000 {method 'items' of 'dict' objects}\n",
      "        2    0.000    0.000    0.000    0.000 {min}\n",
      "        1    0.000    0.000    0.000    0.000 {ord}\n",
      "\n",
      "\n"
     ]
    }
   ],
   "source": [
    "import cProfile\n",
    "import re\n",
    "cProfile.run('re.compile(\"7\")')"
   ]
  },
  {
   "cell_type": "code",
   "execution_count": 2,
   "metadata": {
    "collapsed": false
   },
   "outputs": [
    {
     "data": {
      "text/plain": [
       "[1, 2, 3, 4, 5, 6]"
      ]
     },
     "execution_count": 2,
     "metadata": {},
     "output_type": "execute_result"
    }
   ],
   "source": [
    "a = [1,2,3,4,5,6]\n",
    "\n",
    "def ave(array):\n",
    "    total = 0\n",
    "    for a in array:\n",
    "        a = array[a]\n",
    "        total += a\n",
    "        \n",
    "        "
   ]
  },
  {
   "cell_type": "code",
   "execution_count": null,
   "metadata": {
    "collapsed": true
   },
   "outputs": [],
   "source": []
  }
 ],
 "metadata": {
  "kernelspec": {
   "display_name": "Python 2",
   "language": "python",
   "name": "python2"
  },
  "language_info": {
   "codemirror_mode": {
    "name": "ipython",
    "version": 2
   },
   "file_extension": ".py",
   "mimetype": "text/x-python",
   "name": "python",
   "nbconvert_exporter": "python",
   "pygments_lexer": "ipython2",
   "version": "2.7.9"
  }
 },
 "nbformat": 4,
 "nbformat_minor": 0
}
