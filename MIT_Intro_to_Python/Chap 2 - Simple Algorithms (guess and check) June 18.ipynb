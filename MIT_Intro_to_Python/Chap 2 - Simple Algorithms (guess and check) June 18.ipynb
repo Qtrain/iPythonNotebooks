{
 "cells": [
  {
   "cell_type": "markdown",
   "metadata": {},
   "source": [
    "# Guess and Check\n",
    "\n",
    "* guess and check problems work when there is a finite set of solutions\n",
    "* Exhaustive enumeration is a good way to check in an organized manner.  Literally condition is checked linearly\n",
    "* The key is to develop a good way to generate guesses"
   ]
  },
  {
   "cell_type": "markdown",
   "metadata": {},
   "source": [
    "####Finding the cube root of an integer\n",
    "\n",
    "* One way to use this idea of generating guesses in order to find the cube root of x is to first try 0**3 1**3...k**3\n",
    "* we can stop when we reach k such that k**3 > x\n"
   ]
  },
  {
   "cell_type": "code",
   "execution_count": 9,
   "metadata": {
    "collapsed": false
   },
   "outputs": [
    {
     "data": {
      "text/plain": [
       "3"
      ]
     },
     "execution_count": 9,
     "metadata": {},
     "output_type": "execute_result"
    }
   ],
   "source": [
    "def cubeRoot(n):\n",
    "    ans = 0 # initialized outside loop\n",
    "    while ans**3 < n:# test for termination\n",
    "        ans += 1 # changes within loop\n",
    "    return ans\n",
    "\n",
    "cubeRoot(16)\n",
    "    "
   ]
  },
  {
   "cell_type": "code",
   "execution_count": null,
   "metadata": {
    "collapsed": true
   },
   "outputs": [],
   "source": []
  }
 ],
 "metadata": {
  "kernelspec": {
   "display_name": "Python 2",
   "language": "python",
   "name": "python2"
  },
  "language_info": {
   "codemirror_mode": {
    "name": "ipython",
    "version": 2
   },
   "file_extension": ".py",
   "mimetype": "text/x-python",
   "name": "python",
   "nbconvert_exporter": "python",
   "pygments_lexer": "ipython2",
   "version": "2.7.9"
  }
 },
 "nbformat": 4,
 "nbformat_minor": 0
}
