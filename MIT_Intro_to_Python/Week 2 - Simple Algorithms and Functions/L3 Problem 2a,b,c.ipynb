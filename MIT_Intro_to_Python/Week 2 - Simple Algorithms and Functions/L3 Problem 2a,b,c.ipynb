{
 "cells": [
  {
   "cell_type": "markdown",
   "metadata": {},
   "source": [
    "#### A. Convert the following into code that uses a while loop.\n",
    "\n",
    "* print 2\n",
    "* print 4\n",
    "* print 6\n",
    "* print 8\n",
    "* print 10\n",
    "* print Goodbye!"
   ]
  },
  {
   "cell_type": "code",
   "execution_count": 1,
   "metadata": {
    "collapsed": false
   },
   "outputs": [
    {
     "name": "stdout",
     "output_type": "stream",
     "text": [
      "2\n",
      "4\n",
      "6\n",
      "8\n",
      "10\n",
      "Goodbye!\n"
     ]
    }
   ],
   "source": [
    "def printNumbers():\n",
    "  \n",
    "  i = 2\n",
    "  while (i < 11):\n",
    "    print i\n",
    "    i += 2\n",
    "  print 'Goodbye!'\n",
    "  \n",
    "\n",
    "printNumbers()"
   ]
  },
  {
   "cell_type": "markdown",
   "metadata": {},
   "source": [
    "#### B. Convert the following into code that uses a while loop.\n",
    "\n",
    "* print Hello!\n",
    "* print 10\n",
    "* print 8\n",
    "* print 6\n",
    "* print 4\n",
    "* print 2"
   ]
  },
  {
   "cell_type": "code",
   "execution_count": 3,
   "metadata": {
    "collapsed": false
   },
   "outputs": [
    {
     "name": "stdout",
     "output_type": "stream",
     "text": [
      "Hello!\n",
      "10\n",
      "8\n",
      "6\n",
      "4\n",
      "2\n"
     ]
    }
   ],
   "source": [
    "print 'Hello!'\n",
    "\n",
    "x = 10\n",
    "while x > 0:\n",
    "  print x\n",
    "  x -= 2"
   ]
  },
  {
   "cell_type": "markdown",
   "metadata": {},
   "source": [
    "#### C. Write a while loop that sums the values 1 through end, inclusive. end is a variable that we define for you. So, for example, if we define end to be 6, your code should print out the result: 21\n",
    "\n",
    "= 1 + 2 + 3 .. +6\n",
    "\n",
    "\n",
    "\n"
   ]
  },
  {
   "cell_type": "code",
   "execution_count": 7,
   "metadata": {
    "collapsed": false
   },
   "outputs": [
    {
     "name": "stdout",
     "output_type": "stream",
     "text": [
      "my sum\n",
      "21\n"
     ]
    }
   ],
   "source": [
    "end = 6\n",
    "\n",
    "my_sum = 0\n",
    "while end > 0:\n",
    "  my_sum += end\n",
    "  end -=1\n",
    "print 'my sum' \n",
    "print my_sum"
   ]
  },
  {
   "cell_type": "code",
   "execution_count": null,
   "metadata": {
    "collapsed": true
   },
   "outputs": [],
   "source": []
  }
 ],
 "metadata": {
  "kernelspec": {
   "display_name": "Python 2",
   "language": "python",
   "name": "python2"
  },
  "language_info": {
   "codemirror_mode": {
    "name": "ipython",
    "version": 2
   },
   "file_extension": ".py",
   "mimetype": "text/x-python",
   "name": "python",
   "nbconvert_exporter": "python",
   "pygments_lexer": "ipython2",
   "version": "2.7.9"
  }
 },
 "nbformat": 4,
 "nbformat_minor": 0
}
