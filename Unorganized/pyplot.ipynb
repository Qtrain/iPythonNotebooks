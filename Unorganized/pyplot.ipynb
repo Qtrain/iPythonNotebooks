{
 "cells": [
  {
   "cell_type": "code",
   "execution_count": 1,
   "metadata": {
    "collapsed": false
   },
   "outputs": [
    {
     "name": "stderr",
     "output_type": "stream",
     "text": [
      ":0: FutureWarning: IPython widgets are experimental and may change in the future.\n",
      "/usr/local/lib/python2.7/site-packages/pandas/rpy/__init__.py:11: FutureWarning: The pandas.rpy module is deprecated and will be removed in a future version. We refer to external packages like rpy2. \n",
      "See here for a guide on how to port your code to rpy2: http://pandas.pydata.org/pandas-docs/stable/r_interface.html\n",
      "  FutureWarning)\n"
     ]
    },
    {
     "name": "stdout",
     "output_type": "stream",
     "text": [
      "\n",
      "Please wait a moment while I gather a list of all available modules...\n",
      "\n",
      "Audio_mac           _socket             genericpath         repr\n",
      "BaseHTTPServer      _sqlite3            gensuitemodule      requests\n",
      "Bastion             _sre                gestalt             resource\n",
      "CGIHTTPServer       _ssl                getopt              rexec\n",
      "Canvas              _strptime           getpass             rfc822\n",
      "Carbon              _struct             gettext             rlcompleter\n",
      "CodeWarrior         _symtable           glob                rmagic\n",
      "ColorPicker         _sysconfigdata      gnureadline         robotparser\n",
      "ConfigParser        _testcapi           grp                 runpy\n",
      "Cookie              _threading_local    gzip                sched\n",
      "Dialog              _tkinter            hashlib             select\n",
      "DocXMLRPCServer     _vendor             heapq               sets\n",
      "EasyDialogs         _warnings           hmac                setuptools\n",
      "Explorer            _weakref            hotshot             sgmllib\n",
      "FileDialog          _weakrefset         htmlentitydefs      sha\n",
      "Finder              abc                 htmllib             shelve\n",
      "FixTk               aepack              httplib             shlex\n",
      "FrameWork           aetools             ic                  shutil\n",
      "HTMLParser          aetypes             icglue              signal\n",
      "IN                  aifc                icopen              site\n",
      "IPython             alabaster           idlelib             sitecustomize\n",
      "MacOS               antigravity         ihooks              six\n",
      "MimeWriter          anydbm              imaplib             smtpd\n",
      "MiniAEFrame         applesingle         imghdr              smtplib\n",
      "Nav                 appletrawmain       imp                 sndhdr\n",
      "Netscape            appletrunner        importlib           snowballstemmer\n",
      "OSATerminology      argparse            imputil             socket\n",
      "PixMapWrapper       argvemulator        inspect             sphinx\n",
      "Queue               array               io                  sphinx_rtd_theme\n",
      "ScrolledText        ast                 itertools           sqlite3\n",
      "SimpleDialog        asynchat            jinja2              sre\n",
      "SimpleHTTPServer    asyncore            json                sre_compile\n",
      "SimpleXMLRPCServer  atexit              jsonschema          sre_constants\n",
      "SocketServer        audiodev            keyword             sre_parse\n",
      "StdSuites           audioop             lib2to3             ssl\n",
      "StringIO            autoGIL             linecache           stat\n",
      "SystemEvents        autoreload          locale              statvfs\n",
      "Terminal            babel               logging             storemagic\n",
      "Tix                 backports           macerrors           string\n",
      "Tkconstants         base64              macostools          stringold\n",
      "Tkdnd               bdb                 macpath             stringprep\n",
      "Tkinter             bgenlocations       macresource         strop\n",
      "UserDict            binascii            macurl2path         struct\n",
      "UserList            binhex              mailbox             subprocess\n",
      "UserString          bisect              mailcap             sunau\n",
      "_AE                 bsddb               markupbase          sunaudio\n",
      "_AH                 bsddb185            markupsafe          symbol\n",
      "_App                buildtools          marshal             sympyprinting\n",
      "_CF                 bundlebuilder       math                symtable\n",
      "_CG                 bz2                 md5                 sys\n",
      "_CarbonEvt          cPickle             mhlib               sysconfig\n",
      "_Cm                 cProfile            mimetools           syslog\n",
      "_Ctl                cStringIO           mimetypes           tabnanny\n",
      "_Dlg                calendar            mimify              tarfile\n",
      "_Drag               certifi             mistune             telnetlib\n",
      "_Evt                cfmfile             mmap                tempfile\n",
      "_File               cgi                 modulefinder        terminado\n",
      "_Fm                 cgitb               multifile           terminalcommand\n",
      "_Folder             chunk               multiprocessing     termios\n",
      "_Help               cmath               mutex               test\n",
      "_IBCarbon           cmd                 ndiff               tests\n",
      "_Icn                code                netrc               textwrap\n",
      "_LWPCookieJar       codecs              new                 this\n",
      "_Launch             codeop              nis                 thread\n",
      "_List               collections         nntplib             threading\n",
      "_Menu               colorsys            nose                time\n",
      "_Mlte               command             ntpath              timeit\n",
      "_MozillaCookieJar   commands            nturl2path          tkColorChooser\n",
      "_OSA                compileall          numbers             tkCommonDialog\n",
      "_Qd                 compiler            numpy               tkFileDialog\n",
      "_Qdoffs             contextlib          numpydoc            tkFont\n",
      "_Qt                 cookielib           opcode              tkMessageBox\n",
      "_Res                copy                operator            tkSimpleDialog\n",
      "_Scrap              copy_reg            optparse            toaiff\n",
      "_Snd                crypt               os                  token\n",
      "_TE                 csv                 os2emxpath          tokenize\n",
      "_Win                ctypes              pandas              tornado\n",
      "__builtin__         curses              parallelmagic       trace\n",
      "__future__          cythonmagic         parser              traceback\n",
      "_abcoll             datetime            pdb                 ttk\n",
      "_ast                dateutil            pickle              tty\n",
      "_bisect             dbhash              pickletools         turtle\n",
      "_builtinSuites      dbm                 pimp                types\n",
      "_codecs             decimal             pip                 unicodedata\n",
      "_codecs_cn          difflib             pipes               unittest\n",
      "_codecs_hk          dircache            pkg_resources       urllib\n",
      "_codecs_iso2022     dis                 pkgutil             urllib2\n",
      "_codecs_jp          distutils           platform            urlparse\n",
      "_codecs_kr          doctest             plistlib            user\n",
      "_codecs_tw          docutils            popen2              uu\n",
      "_collections        dumbdbm             poplib              uuid\n",
      "_csv                dummy_thread        posix               vboxapi\n",
      "_ctypes             dummy_threading     posixfile           videoreader\n",
      "_ctypes_test        easy_install        posixpath           virtualenv\n",
      "_curses             email               powerline           virtualenv_support\n",
      "_curses_panel       encodings           pprint              warnings\n",
      "_elementtree        ensurepip           profile             wave\n",
      "_functools          errno               pstats              weakref\n",
      "_hashlib            exceptions          pty                 webbrowser\n",
      "_heapq              fcntl               ptyprocess          whichdb\n",
      "_hotshot            filecmp             pwd                 wsgiref\n",
      "_io                 fileinput           py_compile          xdrlib\n",
      "_json               findertools         pyclbr              xml\n",
      "_locale             fnmatch             pydoc               xmllib\n",
      "_lsprof             formatter           pydoc_data          xmlrpclib\n",
      "_markerlib          fpformat            pyexpat             xxsubtype\n",
      "_multibytecodec     fractions           pygments            zipfile\n",
      "_multiprocessing    ftplib              pytz                zipimport\n",
      "_osx_support        functools           quopri              zlib\n",
      "_pyio               future_builtins     random              zmq\n",
      "_random             gc                  re                  \n",
      "_scproxy            gdbm                readline            \n",
      "\n",
      "Enter any module name to get more help.  Or, type \"modules spam\" to search\n",
      "for modules whose descriptions contain the word \"spam\".\n",
      "\n"
     ]
    }
   ],
   "source": [
    "help('modules')"
   ]
  },
  {
   "cell_type": "code",
   "execution_count": 11,
   "metadata": {
    "collapsed": true
   },
   "outputs": [],
   "source": [
    "%magic"
   ]
  },
  {
   "cell_type": "markdown",
   "metadata": {},
   "source": [
    "simple linear plot"
   ]
  },
  {
   "cell_type": "code",
   "execution_count": 10,
   "metadata": {
    "collapsed": false
   },
   "outputs": [],
   "source": [
    "import matplotlib.pyplot as pyplot\n",
    "\n",
    "pyplot.plot([1,2,3,4])\n",
    "pyplot.ylabel('some numbers')\n",
    "pyplot.show()"
   ]
  },
  {
   "cell_type": "markdown",
   "metadata": {},
   "source": [
    "cool histogram"
   ]
  },
  {
   "cell_type": "code",
   "execution_count": null,
   "metadata": {
    "collapsed": true
   },
   "outputs": [],
   "source": [
    "import numpy as np\n",
    "import matplotlib.pyplot as plt\n",
    "\n",
    "mu, sigma = 100, 15\n",
    "x = mu + sigma * np.random.randn(10000)\n",
    "\n",
    "# the histogram of the data\n",
    "n, bins, patches = plt.hist(x, 50, normed=1, facecolor='g', alpha=0.75)\n",
    "\n",
    "\n",
    "plt.xlabel('Smarts')\n",
    "plt.ylabel('Probability')\n",
    "plt.title('Histogram of IQ')\n",
    "plt.text(60, .025, r'$\\mu=100,\\ \\sigma=15$')\n",
    "plt.axis([40, 160, 0, 0.03])\n",
    "plt.grid(True)\n",
    "plt.show()"
   ]
  },
  {
   "cell_type": "markdown",
   "metadata": {},
   "source": [
    "annotate text"
   ]
  },
  {
   "cell_type": "code",
   "execution_count": 8,
   "metadata": {
    "collapsed": true
   },
   "outputs": [],
   "source": [
    "import numpy as np\n",
    "import matplotlib.pyplot as plt\n",
    "\n",
    "ax = plt.subplot(111)\n",
    "\n",
    "t = np.arange(0.0, 5.0, 0.01)\n",
    "s = np.cos(2*np.pi*t)\n",
    "line, = plt.plot(t, s, lw=2)\n",
    "\n",
    "plt.annotate('local max', xy=(2, 1), xytext=(3, 1.5),\n",
    "            arrowprops=dict(facecolor='black', shrink=0.05),\n",
    "            )\n",
    "\n",
    "plt.ylim(-2,2)\n",
    "plt.show()"
   ]
  },
  {
   "cell_type": "code",
   "execution_count": null,
   "metadata": {
    "collapsed": true
   },
   "outputs": [],
   "source": []
  }
 ],
 "metadata": {
  "kernelspec": {
   "display_name": "Python 2",
   "language": "python",
   "name": "python2"
  },
  "language_info": {
   "codemirror_mode": {
    "name": "ipython",
    "version": 2
   },
   "file_extension": ".py",
   "mimetype": "text/x-python",
   "name": "python",
   "nbconvert_exporter": "python",
   "pygments_lexer": "ipython2",
   "version": "2.7.9"
  }
 },
 "nbformat": 4,
 "nbformat_minor": 0
}
