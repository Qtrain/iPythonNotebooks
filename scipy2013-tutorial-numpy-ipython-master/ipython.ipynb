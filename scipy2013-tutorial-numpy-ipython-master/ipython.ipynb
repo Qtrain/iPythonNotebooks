{
 "cells": [
  {
   "cell_type": "markdown",
   "metadata": {},
   "source": [
    "#  Introduction to the IPython notebook"
   ]
  },
  {
   "cell_type": "markdown",
   "metadata": {},
   "source": [
    "## Basics "
   ]
  },
  {
   "cell_type": "markdown",
   "metadata": {},
   "source": [
    "* The notebook consists of individual cells\n",
    "* Each cell may contain code or text (amongst other options)\n",
    "* Text format can be [markdown](http://daringfireball.net/projects/markdown), HTML or LaTeX\n",
    "* Code cells are run using:\n",
    "  * **shift + enter** will move to next cell\n",
    "  * **ctrl + enter** will stay in the current cell\n",
    "* Markdown cells can be modified by double-clicking on them"
   ]
  },
  {
   "cell_type": "code",
   "execution_count": null,
   "metadata": {
    "collapsed": false
   },
   "outputs": [],
   "source": [
    "\"Hello IPython notebook!\""
   ]
  },
  {
   "cell_type": "code",
   "execution_count": 1,
   "metadata": {
    "collapsed": false
   },
   "outputs": [
    {
     "data": {
      "text/plain": [
       "list"
      ]
     },
     "execution_count": 1,
     "metadata": {},
     "output_type": "execute_result"
    }
   ],
   "source": [
    "# Only the last statement will be shown\n",
    "L = ['red', 'blue', 'green', 'black', 'white']\n",
    "type(L)\n",
    "#sorted(L)  # uncomment this line to show the sorted list instead of the type"
   ]
  },
  {
   "cell_type": "code",
   "execution_count": 2,
   "metadata": {
    "collapsed": false,
    "slideshow": {
     "slide_start": false
    }
   },
   "outputs": [
    {
     "ename": "NameError",
     "evalue": "name 'linspace' is not defined",
     "output_type": "error",
     "traceback": [
      "\u001b[0;31m---------------------------------------------------------------------------\u001b[0m",
      "\u001b[0;31mNameError\u001b[0m                                 Traceback (most recent call last)",
      "\u001b[0;32m<ipython-input-2-b3fd983d3e37>\u001b[0m in \u001b[0;36m<module>\u001b[0;34m()\u001b[0m\n\u001b[1;32m      2\u001b[0m \u001b[0;34m\u001b[0m\u001b[0m\n\u001b[1;32m      3\u001b[0m \u001b[0;31m# numpy's linspace and pi\u001b[0m\u001b[0;34m\u001b[0m\u001b[0;34m\u001b[0m\u001b[0m\n\u001b[0;32m----> 4\u001b[0;31m \u001b[0mx\u001b[0m \u001b[0;34m=\u001b[0m \u001b[0mlinspace\u001b[0m\u001b[0;34m(\u001b[0m\u001b[0;36m0\u001b[0m\u001b[0;34m,\u001b[0m \u001b[0;36m3\u001b[0m\u001b[0;34m*\u001b[0m\u001b[0mpi\u001b[0m\u001b[0;34m,\u001b[0m \u001b[0;36m500\u001b[0m\u001b[0;34m)\u001b[0m\u001b[0;34m\u001b[0m\u001b[0m\n\u001b[0m\u001b[1;32m      5\u001b[0m \u001b[0;34m\u001b[0m\u001b[0m\n\u001b[1;32m      6\u001b[0m \u001b[0;31m# matplotlib's plot and title\u001b[0m\u001b[0;34m\u001b[0m\u001b[0;34m\u001b[0m\u001b[0m\n",
      "\u001b[0;31mNameError\u001b[0m: name 'linspace' is not defined"
     ]
    }
   ],
   "source": [
    "# An example code cell using stuff from pylab\n",
    "\n",
    "# numpy's linspace and pi\n",
    "x = linspace(0, 3*pi, 500)\n",
    "\n",
    "# matplotlib's plot and title\n",
    "plot(x, sin(x**2))\n",
    "title('A simple chirp');"
   ]
  },
  {
   "cell_type": "code",
   "execution_count": 3,
   "metadata": {
    "collapsed": false,
    "slideshow": {
     "slide_start": false
    }
   },
   "outputs": [
    {
     "ename": "TypeError",
     "evalue": "cannot concatenate 'str' and 'int' objects",
     "output_type": "error",
     "traceback": [
      "\u001b[0;31m---------------------------------------------------------------------------\u001b[0m",
      "\u001b[0;31mTypeError\u001b[0m                                 Traceback (most recent call last)",
      "\u001b[0;32m<ipython-input-3-7c5427b1a943>\u001b[0m in \u001b[0;36m<module>\u001b[0;34m()\u001b[0m\n\u001b[1;32m      4\u001b[0m \u001b[0my\u001b[0m \u001b[0;34m=\u001b[0m \u001b[0;36m42\u001b[0m\u001b[0;34m\u001b[0m\u001b[0m\n\u001b[1;32m      5\u001b[0m \u001b[0;34m\u001b[0m\u001b[0m\n\u001b[0;32m----> 6\u001b[0;31m \u001b[0mz\u001b[0m \u001b[0;34m=\u001b[0m \u001b[0mx\u001b[0m \u001b[0;34m+\u001b[0m \u001b[0my\u001b[0m\u001b[0;34m\u001b[0m\u001b[0m\n\u001b[0m",
      "\u001b[0;31mTypeError\u001b[0m: cannot concatenate 'str' and 'int' objects"
     ]
    }
   ],
   "source": [
    "# Errors lead to detailed tracebacks\n",
    "x = \"Hello IPython!\"\n",
    "\n",
    "y = 42\n",
    "\n",
    "z = x + y"
   ]
  },
  {
   "cell_type": "code",
   "execution_count": 4,
   "metadata": {
    "collapsed": false
   },
   "outputs": [
    {
     "data": {
      "text/plain": [
       "'3.0.0'"
      ]
     },
     "execution_count": 4,
     "metadata": {},
     "output_type": "execute_result"
    }
   ],
   "source": [
    "# Echo the version of IPython\n",
    "import IPython\n",
    "IPython.__version__"
   ]
  },
  {
   "cell_type": "markdown",
   "metadata": {},
   "source": [
    "### Exercise"
   ]
  },
  {
   "cell_type": "markdown",
   "metadata": {},
   "source": [
    "* Download the IPython notebook file\n",
    "* Execute `ipython notebook --pylab=inline` to launch the notebook\n",
    "* Execute the cells in the above section using both **shift + enter** and **control + enter**\n",
    "* Make a tiny modification to one of the cells and execute it again"
   ]
  },
  {
   "cell_type": "markdown",
   "metadata": {},
   "source": [
    "## Navigation and cell manipulation"
   ]
  },
  {
   "cell_type": "markdown",
   "metadata": {},
   "source": [
    "* You can:\n",
    "  * Select/add/delete/move/insert cells\n",
    "\n",
    "* Using:\n",
    "  * Menu\n",
    "  * Toolbar\n",
    "  * Keyboard shortcuts (via the Help menu)"
   ]
  },
  {
   "cell_type": "markdown",
   "metadata": {},
   "source": [
    "### Exercise"
   ]
  },
  {
   "cell_type": "markdown",
   "metadata": {},
   "source": [
    "* Create a markdown cell, a header cell and a code cell\n",
    "* Move the cells around using Edit-> Move Cell\n",
    "* Cut and paste a cell to a different location\n",
    "* Use the menu, the toolbar and look at the keyboard shortcuts\n",
    "* Try **shift + enter** when on the last cell in the notebook. What happens?"
   ]
  },
  {
   "cell_type": "markdown",
   "metadata": {},
   "source": [
    "## Markdown Cells"
   ]
  },
  {
   "cell_type": "markdown",
   "metadata": {},
   "source": [
    "Markdown basics: lists, markup and code\n",
    "\n",
    "* list item \n",
    "* list item\n",
    "  * nested list item\n",
    "\n",
    "\n",
    "* *italics*\n",
    "* **bold**\n",
    "* `fixed_font`\n",
    "\n",
    "Code examples:\n",
    "\n",
    "    def hello_ipython():\n",
    "        print \"Hello IPython!\""
   ]
  },
  {
   "cell_type": "markdown",
   "metadata": {},
   "source": [
    "Markdown cells can also contain HTML\n",
    "\n",
    "<p>Markdown basics: lists, markup and code</p>\n",
    "\n",
    "<ul>\n",
    "<li>list item</li>\n",
    "<li><p>list item</p>\n",
    "\n",
    "<ul>\n",
    "<li>nested list item</li>\n",
    "</ul></li>\n",
    "<li><p><em>italics</em></p></li>\n",
    "<li><strong>bold</strong></li>\n",
    "\n",
    "<li><code>fixed_font</code></li>\n",
    "</ul>\n",
    "\n",
    "<p>Code examples:</p>\n",
    "\n",
    "<pre><code>def hello_ipython():\n",
    "    print \"Hello IPython!\"\n",
    "</code></pre>"
   ]
  },
  {
   "cell_type": "markdown",
   "metadata": {},
   "source": [
    "Using math mode (anything between two `$`s or two `$$`s) is interpreted as $LaTeX$ math:\n",
    "\n",
    "$$ D_{KL}(P||Q) = \\sum\\limits_{i}ln (\\frac{P(i)}{Q(i)}) P(i)$$"
   ]
  },
  {
   "cell_type": "markdown",
   "metadata": {},
   "source": [
    "### Exercises"
   ]
  },
  {
   "cell_type": "markdown",
   "metadata": {},
   "source": [
    "* Modify or create a markdown cell and use:\n",
    "  * Markdown\n",
    "  * HTML\n",
    "  * LateX math\n",
    "\n",
    "* Use either `$` or ``$$`` for the math expressions. What is the difference?\n",
    "\n",
    "* Look at the [markdown syntax page](http://daringfireball.net/projects/markdown/syntax#span) (or this cell) to find out how to create hyperlinks"
   ]
  },
  {
   "cell_type": "markdown",
   "metadata": {},
   "source": [
    "## Help"
   ]
  },
  {
   "cell_type": "code",
   "execution_count": 5,
   "metadata": {
    "collapsed": false
   },
   "outputs": [],
   "source": [
    "# Help on python objects using the '?'\n",
    "import IPython\n",
    "IPython?"
   ]
  },
  {
   "cell_type": "code",
   "execution_count": 6,
   "metadata": {
    "collapsed": true
   },
   "outputs": [
    {
     "name": "stdout",
     "output_type": "stream",
     "text": [
      "Help on package IPython:\n",
      "\n",
      "NAME\n",
      "    IPython - IPython: tools for interactive and parallel computing in Python.\n",
      "\n",
      "FILE\n",
      "    /Users/macbook/pythonProjects/Anaconda/anaconda/lib/python2.7/site-packages/IPython/__init__.py\n",
      "\n",
      "DESCRIPTION\n",
      "    http://ipython.org\n",
      "\n",
      "PACKAGE CONTENTS\n",
      "    __main__\n",
      "    config (package)\n",
      "    consoleapp\n",
      "    core (package)\n",
      "    display\n",
      "    extensions (package)\n",
      "    external (package)\n",
      "    frontend\n",
      "    html (package)\n",
      "    kernel (package)\n",
      "    lib (package)\n",
      "    nbconvert (package)\n",
      "    nbformat (package)\n",
      "    parallel (package)\n",
      "    qt (package)\n",
      "    sphinxext (package)\n",
      "    terminal (package)\n",
      "    testing (package)\n",
      "    utils (package)\n",
      "\n",
      "SUBMODULES\n",
      "    release\n",
      "\n",
      "FUNCTIONS\n",
      "    embed_kernel(module=None, local_ns=None, **kwargs)\n",
      "        Embed and start an IPython kernel in a given scope.\n",
      "        \n",
      "        If you don't want the kernel to initialize the namespace\n",
      "        from the scope of the surrounding function,\n",
      "        and/or you want to load full IPython configuration,\n",
      "        you probably want `IPython.start_kernel()` instead.\n",
      "        \n",
      "        Parameters\n",
      "        ----------\n",
      "        module : ModuleType, optional\n",
      "            The module to load into IPython globals (default: caller)\n",
      "        local_ns : dict, optional\n",
      "            The namespace to load into IPython user namespace (default: caller)\n",
      "        \n",
      "        kwargs : various, optional\n",
      "            Further keyword args are relayed to the IPKernelApp constructor,\n",
      "            allowing configuration of the Kernel.  Will only have an effect\n",
      "            on the first embed_kernel call for a given process.\n",
      "    \n",
      "    start_ipython(argv=None, **kwargs)\n",
      "        Launch a normal IPython instance (as opposed to embedded)\n",
      "        \n",
      "        `IPython.embed()` puts a shell in a particular calling scope,\n",
      "        such as a function or method for debugging purposes,\n",
      "        which is often not desirable.\n",
      "        \n",
      "        `start_ipython()` does full, regular IPython initialization,\n",
      "        including loading startup files, configuration, etc.\n",
      "        much of which is skipped by `embed()`.\n",
      "        \n",
      "        This is a public API method, and will survive implementation changes.\n",
      "        \n",
      "        Parameters\n",
      "        ----------\n",
      "        \n",
      "        argv : list or None, optional\n",
      "            If unspecified or None, IPython will parse command-line options from sys.argv.\n",
      "            To prevent any command-line parsing, pass an empty list: `argv=[]`.\n",
      "        user_ns : dict, optional\n",
      "            specify this dictionary to initialize the IPython user namespace with particular values.\n",
      "        kwargs : various, optional\n",
      "            Any other kwargs will be passed to the Application constructor,\n",
      "            such as `config`.\n",
      "    \n",
      "    start_kernel(argv=None, **kwargs)\n",
      "        Launch a normal IPython kernel instance (as opposed to embedded)\n",
      "        \n",
      "        `IPython.embed_kernel()` puts a shell in a particular calling scope,\n",
      "        such as a function or method for debugging purposes,\n",
      "        which is often not desirable.\n",
      "        \n",
      "        `start_kernel()` does full, regular IPython initialization,\n",
      "        including loading startup files, configuration, etc.\n",
      "        much of which is skipped by `embed()`.\n",
      "        \n",
      "        Parameters\n",
      "        ----------\n",
      "        \n",
      "        argv : list or None, optional\n",
      "            If unspecified or None, IPython will parse command-line options from sys.argv.\n",
      "            To prevent any command-line parsing, pass an empty list: `argv=[]`.\n",
      "        user_ns : dict, optional\n",
      "            specify this dictionary to initialize the IPython user namespace with particular values.\n",
      "        kwargs : various, optional\n",
      "            Any other kwargs will be passed to the Application constructor,\n",
      "            such as `config`.\n",
      "\n",
      "DATA\n",
      "    __author__ = 'The IPython Development Team <ipython-dev@scipy.org>'\n",
      "    __license__ = 'BSD'\n",
      "    __version__ = '3.0.0'\n",
      "    absolute_import = _Feature((2, 5, 0, 'alpha', 1), (3, 0, 0, 'alpha', 0...\n",
      "    version_info = (3, 0, 0, '')\n",
      "\n",
      "VERSION\n",
      "    3.0.0\n",
      "\n",
      "AUTHOR\n",
      "    The IPython Development Team <ipython-dev@scipy.org>\n",
      "\n",
      "\n"
     ]
    }
   ],
   "source": [
    "# Using the built-in help\n",
    "help(IPython)"
   ]
  },
  {
   "cell_type": "markdown",
   "metadata": {},
   "source": [
    "Double click on the divider to close the help console\n"
   ]
  },
  {
   "cell_type": "code",
   "execution_count": null,
   "metadata": {
    "collapsed": false
   },
   "outputs": [],
   "source": [
    "# Tab completion is available\n",
    "IPython.  # press TAB after the period"
   ]
  },
  {
   "cell_type": "markdown",
   "metadata": {},
   "source": [
    "The *Help* menu item has links to IPython and the scientific packages"
   ]
  },
  {
   "cell_type": "markdown",
   "metadata": {},
   "source": [
    "## Loading and Saving"
   ]
  },
  {
   "cell_type": "markdown",
   "metadata": {},
   "source": [
    "* Dashboard shows all notebooks in the directory where it was started from\n",
    "* Use the dashboard to create new notebooks\n",
    "* Files saved as JSON with the ``.ipynb`` extension\n",
    "* Not meant for human consumption\n"
   ]
  },
  {
   "cell_type": "markdown",
   "metadata": {},
   "source": [
    "* Use File -> Print View for a version without the controls\n",
    "* Execute the cells who's output you want to show\n",
    "* Save to HTML or print to PDF"
   ]
  },
  {
   "cell_type": "markdown",
   "metadata": {},
   "source": [
    "* When running from someone else's server, use File -> Download\n",
    "* Either as ``*.ipynb`` file\n",
    "* Or as ``*.py`` file with the markdown as comments\n",
    "* [``*.py`` file can also be imported](http://ipython.org/ipython-doc/dev/interactive/htmlnotebook.html#exporting-a-notebook-and-importing-existing-scripts)"
   ]
  },
  {
   "cell_type": "markdown",
   "metadata": {},
   "source": [
    "* There is also the online [nbviewer](http://nbviewer.ipython.org/)\n",
    "* This can render a static version of a publicly available notebook."
   ]
  },
  {
   "cell_type": "markdown",
   "metadata": {},
   "source": [
    "### Exercises"
   ]
  },
  {
   "cell_type": "markdown",
   "metadata": {},
   "source": [
    "* Create a new notebook from the dashboard\n",
    "* Look at a saved ``*.ipynb`` file. Can you decipher it at least somewhat.\n",
    "* Save the notebook as ``*.py`` file. What does this look like in the editor?\n",
    "* Find an IPython notebook online and try it with the nbviewer site."
   ]
  },
  {
   "cell_type": "markdown",
   "metadata": {},
   "source": [
    "## Images and Video"
   ]
  },
  {
   "cell_type": "code",
   "execution_count": 7,
   "metadata": {
    "collapsed": false,
    "slideshow": {
     "slide_start": false
    }
   },
   "outputs": [
    {
     "data": {
      "image/png": "[encoded data removed]",
      "text/plain": [
       "<IPython.core.display.Image object>"
      ]
     },
     "execution_count": 7,
     "metadata": {},
     "output_type": "execute_result"
    }
   ],
   "source": [
    "from IPython.display import Image\n",
    "\n",
    "Image(filename='images/logo.png')"
   ]
  },
  {
   "cell_type": "code",
   "execution_count": 8,
   "metadata": {
    "collapsed": false,
    "slideshow": {
     "slide_start": false
    }
   },
   "outputs": [
    {
     "data": {
      "text/html": [
       "\n",
       "        <iframe\n",
       "            width=\"400\"\n",
       "            height=\"300\"\n",
       "            src=\"https://www.youtube.com/embed/F4rFuIb1Ie4\"\n",
       "            frameborder=\"0\"\n",
       "            allowfullscreen\n",
       "        ></iframe>\n",
       "        "
      ],
      "text/plain": [
       "<IPython.lib.display.YouTubeVideo at 0x1062a2d90>"
      ]
     },
     "execution_count": 8,
     "metadata": {},
     "output_type": "execute_result"
    }
   ],
   "source": [
    "from IPython.display import YouTubeVideo\n",
    "\n",
    "YouTubeVideo('F4rFuIb1Ie4')"
   ]
  },
  {
   "cell_type": "code",
   "execution_count": 9,
   "metadata": {
    "collapsed": false
   },
   "outputs": [
    {
     "data": {
      "text/html": [
       "<img src=\"http://octodex.github.com/images/pythocat.png\"/>"
      ],
      "text/plain": [
       "<IPython.core.display.Image object>"
      ]
     },
     "execution_count": 9,
     "metadata": {},
     "output_type": "execute_result"
    }
   ],
   "source": [
    "# Alternatively, load an image from a URL\n",
    "Image(url='http://octodex.github.com/images/pythocat.png')"
   ]
  },
  {
   "cell_type": "markdown",
   "metadata": {},
   "source": [
    "## Things I haven't covered"
   ]
  },
  {
   "cell_type": "markdown",
   "metadata": {},
   "source": [
    "* Hiding output\n",
    "* Debugging by attaching a QTConsole\n",
    "* Restarting the kernel in case of crashes\n",
    "* Cython magic\n",
    "\n",
    "* [In-depth IPython tutorial this afternoon](https://conference.scipy.org/scipy2013/tutorial_detail.php?id=104)"
   ]
  }
 ],
 "metadata": {
  "kernelspec": {
   "display_name": "Python 2",
   "language": "python",
   "name": "python2"
  },
  "language_info": {
   "codemirror_mode": {
    "name": "ipython",
    "version": 2
   },
   "file_extension": ".py",
   "mimetype": "text/x-python",
   "name": "python",
   "nbconvert_exporter": "python",
   "pygments_lexer": "ipython2",
   "version": "2.7.10"
  }
 },
 "nbformat": 4,
 "nbformat_minor": 0
}
