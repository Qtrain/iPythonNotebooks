{
 "cells": [
  {
   "cell_type": "code",
   "execution_count": 14,
   "metadata": {},
   "outputs": [],
   "source": [
    "class Node(object):\n",
    "    def __init__(self, name):\n",
    "        self.name = str(name)\n",
    "    def getName(self):\n",
    "        return self.name\n",
    "    def __str__(self):\n",
    "        return self.name\n",
    "\n",
    "class Edge(object):\n",
    "    def __init__(self, src, dest):\n",
    "        self.src = src\n",
    "        self.dest = dest\n",
    "    def getSource(self):\n",
    "        return self.src\n",
    "    def getDestination(self):\n",
    "        return self.dest\n",
    "    def __str__(self):\n",
    "        return str(self.src) + '->' + str(self.dest)\n",
    "\n",
    "class WeightedEdge(Edge):\n",
    "    def __init__(self, src, dest, weight = 1.0):\n",
    "        self.src = src\n",
    "        self.dest = dest\n",
    "        self.weight = weight\n",
    "    def getWeight(self):\n",
    "        return self.weight\n",
    "    def __str__(self):\n",
    "        return str(self.src) + '->(' + str(self.weight) + ')'\\\n",
    "            + str(self.dest)\n",
    "\n",
    "class Digraph(object):\n",
    "    def __init__(self):\n",
    "        self.nodes = set([])\n",
    "        self.edges = {}\n",
    "    def addNode(self, node):\n",
    "        if node in self.nodes:\n",
    "            raise ValueError('Duplicate node')\n",
    "        else:\n",
    "            self.nodes.add(node)\n",
    "            self.edges[node] = []\n",
    "    def addEdge(self, edge):\n",
    "        src = edge.getSource()\n",
    "        dest = edge.getDestination()\n",
    "        if not(src in self.nodes and dest in self.nodes):\n",
    "            raise ValueError('Node not in graph')\n",
    "        self.edges[src].append(dest)\n",
    "    def childrenOf(self, node):\n",
    "        return self.edges[node]\n",
    "    def hasNode(self, node):\n",
    "        return node in self.nodes\n",
    "    def __str__(self):\n",
    "        res = ''\n",
    "        for k in self.edges:\n",
    "            for d in self.edges[k]:\n",
    "                res = res + str(k) + '->' + str(d) + '\\n'\n",
    "        return res[:-1]\n",
    "\n",
    "class Graph(Digraph):\n",
    "    def addEdge(self, edge):\n",
    "        Digraph.addEdge(self, edge)\n",
    "        rev = Edge(edge.getDestination(), edge.getSource())\n",
    "        Digraph.addEdge(self, rev)\n",
    "\n",
    "\n",
    "def printPath(path):\n",
    "    # a path is a list of nodes\n",
    "    result = ''\n",
    "    for i in range(len(path)):\n",
    "        if i == len(path) - 1:\n",
    "            result = result + str(path[i])\n",
    "        else:\n",
    "            result = result + str(path[i]) + '->'\n",
    "    return result\n",
    "\n",
    "nodes = []\n",
    "nodes.append(Node(\"ABC\")) # nodes[0]\n",
    "nodes.append(Node(\"ACB\")) # nodes[1]\n",
    "nodes.append(Node(\"BAC\")) # nodes[2]\n",
    "nodes.append(Node(\"BCA\")) # nodes[3]\n",
    "nodes.append(Node(\"CAB\")) # nodes[4]\n",
    "nodes.append(Node(\"CBA\")) # nodes[5]\n",
    "\n",
    "g = Graph()\n",
    "for n in nodes:\n",
    "    g.addNode(n)\n",
    "    \n",
    "g.addEdge(Edge(nodes[0], nodes[1]))\n",
    "g.addEdge(Edge(nodes[0], nodes[2]))\n",
    "g.addEdge(Edge(nodes[1], nodes[4]))\n",
    "g.addEdge(Edge(nodes[2], nodes[3]))\n",
    "g.addEdge(Edge(nodes[3], nodes[5]))\n",
    "g.addEdge(Edge(nodes[4], nodes[5]))\n",
    "\n",
    "# or some variation on this. Obviously, in a Graph,\n",
    "# g.addEdge(Edge(nodes[0], nodes[1])) functions just as well as\n",
    "# g.addEdge(Edge(nodes[1], nodes[0]))."
   ]
  },
  {
   "cell_type": "code",
   "execution_count": 25,
   "metadata": {},
   "outputs": [
    {
     "ename": "SyntaxError",
     "evalue": "invalid syntax (<ipython-input-25-d487aadd77de>, line 3)",
     "output_type": "error",
     "traceback": [
      "\u001b[0;36m  File \u001b[0;32m\"<ipython-input-25-d487aadd77de>\"\u001b[0;36m, line \u001b[0;32m3\u001b[0m\n\u001b[0;31m    html_text = HTML('http://www.pythontutor.com/visualize.html#code=class+Node(object%29%3A%0A++++def+__init__(self,+name%29%3A%0A++++++++self.name+%3D+str(name%29%0A++++def+getName(self%29%3A%0A++++++++return+self.name%0A++++def+__str__(self%29%3A%0A++++++++return+self.name%0A%0Aclass+Edge(object%29%3A%0A++++def+__init__(self,+src,+dest%29%3A%0A++++++++self.src+%3D+src%0A++++++++self.dest+%3D+dest%0A++++def+getSource(self%29%3A%0A++++++++return+self.src%0A++++def+getDestination(self%29%3A%0A++++++++return+self.dest%0A++++def+__str__(self%29%3A%0A++++++++return+str(self.src%29+%2B+'-%3E'+%2B+str(self.dest%29%0A%0Aclass+WeightedEdge(Edge%29%3A%0A++++def+__init__(self,+src,+dest,+weight+%3D+1.0%29%3A%0A++++++++self.src+%3D+src%0A++++++++self.dest+%3D+dest%0A++++++++self.weight+%3D+weight%0A++++def+getWeight(self%29%3A%0A++++++++return+self.weight%0A++++def+__str__(self%29%3A%0A++++++++return+str(self.src%29+%2B+'-%3E('+%2B+str(self.weight%29+%2B+'%29'%5C%0A++++++++++++%2B+str(self.dest%29%0A%0Aclass+Digraph(object%29%3A%0A++++def+__init__(self%29%3A%0A++++++++self.nodes+%3D+set(%5B%5D%29%0A++++++++self.edges+%3D+%7B%7D%0A++++def+addNode(self,+node%29%3A%0A++++++++if+node+in+self.nodes%3A%0A++++++++++++raise+ValueError('Duplicate+node'%29%0A++++++++else%3A%0A++++++++++++self.nodes.add(node%29%0A++++++++++++self.edges%5Bnode%5D+%3D+%5B%5D%0A++++def+addEdge(self,+edge%29%3A%0A++++++++src+%3D+edge.getSource(%29%0A++++++++dest+%3D+edge.getDestination(%29%0A++++++++if+not(src+in+self.nodes+and+dest+in+self.nodes%29%3A%0A++++++++++++raise+ValueError('Node+not+in+graph'%29%0A++++++++self.edges%5Bsrc%5D.append(dest%29%0A++++def+childrenOf(self,+node%29%3A%0A++++++++return+self.edges%5Bnode%5D%0A++++def+hasNode(self,+node%29%3A%0A++++++++return+node+in+self.nodes%0A++++def+__str__(self%29%3A%0A++++++++res+%3D+''%0A++++++++for+k+in+self.edges%3A%0A++++++++++++for+d+in+self.edges%5Bk%5D%3A%0A++++++++++++++++res+%3D+res+%2B+str(k%29+%2B+'-%3E'+%2B+str(d%29+%2B+'%5Cn'%0A++++++++return+res%5B%3A-1%5D%0A%0Aclass+Graph(Digraph%29%3A%0A++++def+addEdge(self,+edge%29%3A%0A++++++++Digraph.addEdge(self,+edge%29%0A++++++++rev+%3D+Edge(edge.getDestination(%29,+edge.getSource(%29%29%0A++++++++Digraph.addEdge(self,+rev%29%0A%0A%0Adef+printPath(path%29%3A%0A++++%23+a+path+is+a+list+of+nodes%0A++++result+%3D+''%0A++++for+i+in+range(len(path%29%29%3A%0A++++++++if+i+%3D%3D+len(path%29+-+1%3A%0A++++++++++++result+%3D+result+%2B+str(path%5Bi%5D%29%0A++++++++else%3A%0A++++++++++++result+%3D+result+%2B+str(path%5Bi%5D%29+%2B+'-%3E'%0A++++return+result%0A%0Anodes+%3D+%5B%5D%0Anodes.append(Node(%22ABC%22%29%29+%23+nodes%5B0%5D%0Anodes.append(Node(%22ACB%22%29%29+%23+nodes%5B1%5D%0Anodes.append(Node(%22BAC%22%29%29+%23+nodes%5B2%5D%0Anodes.append(Node(%22BCA%22%29%29+%23+nodes%5B3%5D%0Anodes.append(Node(%22CAB%22%29%29+%23+nodes%5B4%5D%0Anodes.append(Node(%22CBA%22%29%29+%23+nodes%5B5%5D%0A%0Ag+%3D+Graph(%29%0Afor+n+in+nodes%3A%0A++++g.addNode(n%29%0A++++%0Ag.addEdge(Edge(nodes%5B0%5D,+nodes%5B1%5D%29%29%0Ag.addEdge(Edge(nodes%5B0%5D,+nodes%5B2%5D%29%29%0Ag.addEdge(Edge(nodes%5B1%5D,+nodes%5B4%5D%29%29%0Ag.addEdge(Edge(nodes%5B2%5D,+nodes%5B3%5D%29%29%0Ag.addEdge(Edge(nodes%5B3%5D,+nodes%5B5%5D%29%29%0Ag.addEdge(Edge(nodes%5B4%5D,+nodes%5B5%5D%29%29%0A%0A%23+or+some+variation+on+this.+Obviously,+in+a+Graph,%0A%23+g.addEdge(Edge(nodes%5B0%5D,+nodes%5B1%5D%29%29+functions+just+as+well+as%0A%23+g.addEdge(Edge(nodes%5B1%5D,+nodes%5B0%5D%29%29.&mode=display&origin=opt-frontend.js&cumulative=false&heapPrimitives=false&textReferences=false&py=2&rawInputLstJSON=%5B%5D&curInstr=0')\u001b[0m\n\u001b[0m                                                                                                                                                                                                                                                                                                                                                                                                                                                                                                                                                                                                               ^\u001b[0m\n\u001b[0;31mSyntaxError\u001b[0m\u001b[0;31m:\u001b[0m invalid syntax\n"
     ]
    }
   ],
   "source": [
    "from IPython.core.display import HTML\n",
    "\n",
    "html_text = HTML('http://www.pythontutor.com/visualize.html#code=class+Node(object%29%3A%0A++++def+__init__(self,+name%29%3A%0A++++++++self.name+%3D+str(name%29%0A++++def+getName(self%29%3A%0A++++++++return+self.name%0A++++def+__str__(self%29%3A%0A++++++++return+self.name%0A%0Aclass+Edge(object%29%3A%0A++++def+__init__(self,+src,+dest%29%3A%0A++++++++self.src+%3D+src%0A++++++++self.dest+%3D+dest%0A++++def+getSource(self%29%3A%0A++++++++return+self.src%0A++++def+getDestination(self%29%3A%0A++++++++return+self.dest%0A++++def+__str__(self%29%3A%0A++++++++return+str(self.src%29+%2B+'-%3E'+%2B+str(self.dest%29%0A%0Aclass+WeightedEdge(Edge%29%3A%0A++++def+__init__(self,+src,+dest,+weight+%3D+1.0%29%3A%0A++++++++self.src+%3D+src%0A++++++++self.dest+%3D+dest%0A++++++++self.weight+%3D+weight%0A++++def+getWeight(self%29%3A%0A++++++++return+self.weight%0A++++def+__str__(self%29%3A%0A++++++++return+str(self.src%29+%2B+'-%3E('+%2B+str(self.weight%29+%2B+'%29'%5C%0A++++++++++++%2B+str(self.dest%29%0A%0Aclass+Digraph(object%29%3A%0A++++def+__init__(self%29%3A%0A++++++++self.nodes+%3D+set(%5B%5D%29%0A++++++++self.edges+%3D+%7B%7D%0A++++def+addNode(self,+node%29%3A%0A++++++++if+node+in+self.nodes%3A%0A++++++++++++raise+ValueError('Duplicate+node'%29%0A++++++++else%3A%0A++++++++++++self.nodes.add(node%29%0A++++++++++++self.edges%5Bnode%5D+%3D+%5B%5D%0A++++def+addEdge(self,+edge%29%3A%0A++++++++src+%3D+edge.getSource(%29%0A++++++++dest+%3D+edge.getDestination(%29%0A++++++++if+not(src+in+self.nodes+and+dest+in+self.nodes%29%3A%0A++++++++++++raise+ValueError('Node+not+in+graph'%29%0A++++++++self.edges%5Bsrc%5D.append(dest%29%0A++++def+childrenOf(self,+node%29%3A%0A++++++++return+self.edges%5Bnode%5D%0A++++def+hasNode(self,+node%29%3A%0A++++++++return+node+in+self.nodes%0A++++def+__str__(self%29%3A%0A++++++++res+%3D+''%0A++++++++for+k+in+self.edges%3A%0A++++++++++++for+d+in+self.edges%5Bk%5D%3A%0A++++++++++++++++res+%3D+res+%2B+str(k%29+%2B+'-%3E'+%2B+str(d%29+%2B+'%5Cn'%0A++++++++return+res%5B%3A-1%5D%0A%0Aclass+Graph(Digraph%29%3A%0A++++def+addEdge(self,+edge%29%3A%0A++++++++Digraph.addEdge(self,+edge%29%0A++++++++rev+%3D+Edge(edge.getDestination(%29,+edge.getSource(%29%29%0A++++++++Digraph.addEdge(self,+rev%29%0A%0A%0Adef+printPath(path%29%3A%0A++++%23+a+path+is+a+list+of+nodes%0A++++result+%3D+''%0A++++for+i+in+range(len(path%29%29%3A%0A++++++++if+i+%3D%3D+len(path%29+-+1%3A%0A++++++++++++result+%3D+result+%2B+str(path%5Bi%5D%29%0A++++++++else%3A%0A++++++++++++result+%3D+result+%2B+str(path%5Bi%5D%29+%2B+'-%3E'%0A++++return+result%0A%0Anodes+%3D+%5B%5D%0Anodes.append(Node(%22ABC%22%29%29+%23+nodes%5B0%5D%0Anodes.append(Node(%22ACB%22%29%29+%23+nodes%5B1%5D%0Anodes.append(Node(%22BAC%22%29%29+%23+nodes%5B2%5D%0Anodes.append(Node(%22BCA%22%29%29+%23+nodes%5B3%5D%0Anodes.append(Node(%22CAB%22%29%29+%23+nodes%5B4%5D%0Anodes.append(Node(%22CBA%22%29%29+%23+nodes%5B5%5D%0A%0Ag+%3D+Graph(%29%0Afor+n+in+nodes%3A%0A++++g.addNode(n%29%0A++++%0Ag.addEdge(Edge(nodes%5B0%5D,+nodes%5B1%5D%29%29%0Ag.addEdge(Edge(nodes%5B0%5D,+nodes%5B2%5D%29%29%0Ag.addEdge(Edge(nodes%5B1%5D,+nodes%5B4%5D%29%29%0Ag.addEdge(Edge(nodes%5B2%5D,+nodes%5B3%5D%29%29%0Ag.addEdge(Edge(nodes%5B3%5D,+nodes%5B5%5D%29%29%0Ag.addEdge(Edge(nodes%5B4%5D,+nodes%5B5%5D%29%29%0A%0A%23+or+some+variation+on+this.+Obviously,+in+a+Graph,%0A%23+g.addEdge(Edge(nodes%5B0%5D,+nodes%5B1%5D%29%29+functions+just+as+well+as%0A%23+g.addEdge(Edge(nodes%5B1%5D,+nodes%5B0%5D%29%29.&mode=display&origin=opt-frontend.js&cumulative=false&heapPrimitives=false&textReferences=false&py=2&rawInputLstJSON=%5B%5D&curInstr=0')\n",
    "html_text"
   ]
  },
  {
   "cell_type": "code",
   "metadata": {},
   "outputs": [],
   "source": [
    ""
   ]
  },
  {
   "cell_type": "code",
   "metadata": {},
   "outputs": [],
   "source": [
    ""
   ]
  },
  {
   "cell_type": "code",
   "execution_count": 15,
   "metadata": {},
   "outputs": [
    {
     "name": "stdout",
     "output_type": "stream",
     "text": [
      "ABC->ACB\n",
      "ABC->BAC\n",
      "ACB->ABC\n",
      "ACB->CAB\n",
      "CBA->BCA\n",
      "CBA->CAB\n",
      "BAC->ABC\n",
      "BAC->BCA\n",
      "BCA->BAC\n",
      "BCA->CBA\n",
      "CAB->ACB\n",
      "CAB->CBA\n"
     ]
    }
   ],
   "source": [
    "print g"
   ]
  },
  {
   "cell_type": "code",
   "execution_count": 16,
   "metadata": {},
   "outputs": [
    {
     "data": {
      "text/plain": [
       "'ABC->ACB->BAC->BCA->CAB->CBA'"
      ]
     },
     "execution_count": 16,
     "output_type": "execute_result",
     "metadata": {}
    }
   ],
   "source": [
    "printPath(nodes)"
   ]
  },
  {
   "cell_type": "code",
   "metadata": {},
   "outputs": [],
   "source": [
    ""
   ]
  }
 ],
 "metadata": {
  "kernelspec": {
   "display_name": "Python 2",
   "language": "python",
   "name": "python2"
  },
  "language_info": {
   "codemirror_mode": {
    "name": "ipython",
    "version": 2.0
   },
   "file_extension": ".py",
   "mimetype": "text/x-python",
   "name": "python",
   "nbconvert_exporter": "python",
   "pygments_lexer": "ipython2",
   "version": "2.7.10"
  }
 },
 "nbformat": 4,
 "nbformat_minor": 0
}