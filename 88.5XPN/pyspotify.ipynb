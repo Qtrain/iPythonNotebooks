{
 "cells": [
  {
   "cell_type": "code",
   "execution_count": 1,
   "metadata": {
    "collapsed": false
   },
   "outputs": [
    {
     "name": "stderr",
     "output_type": "stream",
     "text": [
      "UsageError: %%capture is a cell magic, but the cell body is empty."
     ]
    }
   ],
   "source": [
    "%%capture myout"
   ]
  },
  {
   "cell_type": "code",
   "execution_count": null,
   "metadata": {
    "collapsed": false
   },
   "outputs": [],
   "source": [
    "import spotipy\n",
    "\n",
    "birdy_uri = 'spotify:artist:2WX2uTcsvV5OnS0inACecP'\n",
    "spotify = spotipy.Spotify()\n",
    "\n",
    "results = spotify.artist_albums(birdy_uri, album_type='album')\n",
    "albums = results['items']\n",
    "while results['next']:\n",
    "    results = spotify.next(results)\n",
    "    albums.extend(results['items'])\n",
    "\n",
    "for album in albums:\n",
    "    print(album['name'])\n"
   ]
  },
  {
   "cell_type": "code",
   "execution_count": null,
   "metadata": {
    "collapsed": false
   },
   "outputs": [],
   "source": [
    "import spotipy\n",
    "\n",
    "lz_uri = 'spotify:artist:36QJpDe2go2KgaRleHCDTp'\n",
    "\n",
    "spotify = spotipy.Spotify()\n",
    "results = spotify.artist_top_tracks(lz_uri)\n",
    "\n",
    "for track in results['tracks'][:10]:\n",
    "    print 'track    : ' + track['name']\n",
    "    print 'audio    : ' + track['preview_url']\n",
    "    print 'cover art: ' + track['album']['images'][0]['url']\n",
    "    print"
   ]
  },
  {
   "cell_type": "code",
   "execution_count": null,
   "metadata": {
    "collapsed": false
   },
   "outputs": [],
   "source": [
    "import sys\n",
    "import spotipy\n",
    "import spotipy.util as util\n",
    "\n",
    "scope = 'user-library-read'\n",
    "\n",
    "username = '1232493535'\n",
    "\n",
    "token = util.prompt_for_user_token(username, scope, client_id='05c13668e5db496f867fa24cb5c1f12e', client_secret='4ca2d9d6b2c24fee8577861ae5ed4c31', redirect_uri='http://localhost:8888/notebooks/88.5XPN/pyspotify.ipynb')\n",
    "\n",
    "if token:\n",
    "    sp = spotipy.Spotify(auth=token)\n",
    "    results = sp.current_user_saved_tracks()\n",
    "    for item in results['items']:\n",
    "        track = item['track']\n",
    "        print track['name'] + ' - ' + track['artists'][0]['name']\n",
    "else:\n",
    "    print \"Can't get token for\", username"
   ]
  },
  {
   "cell_type": "code",
   "execution_count": null,
   "metadata": {
    "collapsed": false
   },
   "outputs": [],
   "source": [
    "print username"
   ]
  },
  {
   "cell_type": "code",
   "execution_count": null,
   "metadata": {
    "collapsed": false
   },
   "outputs": [],
   "source": [
    "print track"
   ]
  },
  {
   "cell_type": "code",
   "execution_count": null,
   "metadata": {
    "collapsed": true
   },
   "outputs": [],
   "source": [
    "import sys\n",
    "import spotipy\n",
    "import spotipy.util as util\n",
    "\n",
    "scope = 'user-library-read'\n",
    "\n",
    "username = '1232493535'\n",
    "\n",
    "token = util.prompt_for_user_token(username, scope, client_id='05c13668e5db496f867fa24cb5c1f12e', client_secret='4ca2d9d6b2c24fee8577861ae5ed4c31', redirect_uri='http://localhost:8888/notebooks/88.5XPN/pyspotify.ipynb')\n",
    "\n",
    "if token:\n",
    "    sp = spotipy.Spotify(auth=token)\n",
    "    playlists = sp.user_playlists(username)\n",
    "    for playlist in playlists['items']:\n",
    "        if playlist['owner']['id'] == username:\n",
    "                print\n",
    "                print playlist['name']\n",
    "                print '  total tracks', playlist['tracks']['total']\n",
    "                results = sp.user_playlist(username, playlist['id'],\n",
    "                    fields=\"tracks,next\")\n",
    "                tracks = results['tracks']\n",
    "                show_tracks(tracks)\n",
    "                while tracks['next']:\n",
    "                    tracks = sp.next(tracks)\n",
    "                    show_tracks(tracks)\n",
    "else:\n",
    "    print \"Can't get token for\", username\n"
   ]
  },
  {
   "cell_type": "code",
   "execution_count": null,
   "metadata": {
    "collapsed": true
   },
   "outputs": [],
   "source": []
  }
 ],
 "metadata": {
  "kernelspec": {
   "display_name": "Python 2",
   "language": "python",
   "name": "python2"
  },
  "language_info": {
   "codemirror_mode": {
    "name": "ipython",
    "version": 2
   },
   "file_extension": ".py",
   "mimetype": "text/x-python",
   "name": "python",
   "nbconvert_exporter": "python",
   "pygments_lexer": "ipython2",
   "version": "2.7.9"
  }
 },
 "nbformat": 4,
 "nbformat_minor": 0
}
