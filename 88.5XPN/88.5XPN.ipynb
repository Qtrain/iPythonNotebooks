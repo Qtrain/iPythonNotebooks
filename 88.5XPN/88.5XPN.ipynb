{
 "cells": [
  {
   "cell_type": "code",
   "execution_count": 4,
   "metadata": {
    "collapsed": false
   },
   "outputs": [
    {
     "name": "stderr",
     "output_type": "stream",
     "text": [
      ":0: FutureWarning: IPython widgets are experimental and may change in the future.\n",
      "/usr/local/lib/python2.7/site-packages/matplotlib/cbook.py:137: MatplotlibDeprecationWarning: The matplotlib.delaunay module was deprecated in version 1.4. Use matplotlib.tri.Triangulation instead.\n",
      "  warnings.warn(message, mplDeprecation, stacklevel=1)\n"
     ]
    },
    {
     "name": "stdout",
     "output_type": "stream",
     "text": [
      "\n",
      "Please wait a moment while I gather a list of all available modules...\n",
      "\n",
      "/usr/local/lib/python2.7/site-packages/zmq/backend/cffi/__pycache__/_cffi_ext.c:212:10: fatal error: 'zmq.h' file not found\n",
      "#include <zmq.h>\n",
      "         ^\n",
      "1 error generated.\n",
      "Audio_mac           _sre                getopt              repr\n",
      "BaseHTTPServer      _ssl                getpass             requests\n",
      "Bastion             _strptime           gettext             requests_oauthlib\n",
      "CGIHTTPServer       _struct             glob                resource\n",
      "Canvas              _symtable           gnureadline         rexec\n",
      "Carbon              _sysconfigdata      grp                 rfc822\n",
      "CodeWarrior         _testcapi           gzip                rlcompleter\n",
      "ColorPicker         _threading_local    hashlib             rmagic\n",
      "ConfigParser        _tkinter            heapq               robotparser\n",
      "Cookie              _vendor             hmac                runpy\n",
      "Dialog              _warnings           hotshot             sched\n",
      "DocXMLRPCServer     _weakref            htmlentitydefs      select\n",
      "EasyDialogs         _weakrefset         htmllib             sets\n",
      "Explorer            abc                 httplib             setuptools\n",
      "FileDialog          aepack              ic                  sgmllib\n",
      "Finder              aetools             icglue              sha\n",
      "FixTk               aetypes             icopen              shelve\n",
      "FrameWork           aifc                idlelib             shlex\n",
      "HTMLParser          alabaster           ihooks              shutil\n",
      "IN                  antigravity         imaplib             signal\n",
      "IPython             anydbm              imghdr              site\n",
      "MacOS               applesingle         imp                 sitecustomize\n",
      "MimeWriter          appletrawmain       importlib           six\n",
      "MiniAEFrame         appletrunner        imputil             smtpd\n",
      "Nav                 argparse            inspect             smtplib\n",
      "Netscape            argvemulator        io                  sndhdr\n",
      "OSATerminology      array               itertools           snowballstemmer\n",
      "PixMapWrapper       ast                 jdcal               socket\n",
      "Queue               asynchat            jinja2              sphinx\n",
      "ScrolledText        asyncore            json                sphinx_rtd_theme\n",
      "SimpleDialog        atexit              jsonschema          spotify\n",
      "SimpleHTTPServer    audiodev            keyword             sqlite3\n",
      "SimpleXMLRPCServer  audioop             lib2to3             sre\n",
      "SocketServer        autoGIL             linecache           sre_compile\n",
      "StdSuites           autoreload          locale              sre_constants\n",
      "StringIO            babel               logging             sre_parse\n",
      "SystemEvents        backports           macerrors           ssl\n",
      "Terminal            base64              macostools          stat\n",
      "Tix                 bdb                 macpath             statvfs\n",
      "Tkconstants         bgenlocations       macresource         storemagic\n",
      "Tkdnd               binascii            macurl2path         string\n",
      "Tkinter             binhex              mailbox             stringold\n",
      "UserDict            bisect              mailcap             stringprep\n",
      "UserList            bs4                 markupbase          strop\n",
      "UserString          bsddb               markupsafe          struct\n",
      "VBoxPython2_5       bsddb185            marshal             subprocess\n",
      "VBoxPython2_6       buildtools          math                sunau\n",
      "VBoxPython2_7       bundlebuilder       matplotlib          sunaudio\n",
      "_AE                 bz2                 md5                 symbol\n",
      "_AH                 cPickle             mhlib               sympyprinting\n",
      "_App                cProfile            mimetools           symtable\n",
      "_CF                 cStringIO           mimetypes           sys\n",
      "_CG                 calendar            mimify              sysconfig\n",
      "_CarbonEvt          certifi             mistune             syslog\n",
      "_Cm                 cffi                mmap                tabnanny\n",
      "_Ctl                cfmfile             mock                tarfile\n",
      "_Dlg                cgi                 modulefinder        telnetlib\n",
      "_Drag               cgitb               multifile           tempfile\n",
      "_Evt                chunk               multiprocessing     termcolor\n",
      "_File               cmath               mutex               terminado\n",
      "_Fm                 cmd                 ndiff               terminalcommand\n",
      "_Folder             code                netrc               termios\n",
      "_Help               codecs              new                 test\n",
      "_IBCarbon           codeop              nis                 tests\n",
      "_Icn                collections         nntplib             textwrap\n",
      "_LWPCookieJar       colorsys            nose                this\n",
      "_Launch             command             ntpath              thread\n",
      "_List               commands            nturl2path          threading\n",
      "_Menu               compileall          numbers             time\n",
      "_Mlte               compiler            numpy               timeit\n",
      "_MozillaCookieJar   contextlib          numpydoc            tkColorChooser\n",
      "_OSA                cookielib           oauthlib            tkCommonDialog\n",
      "_Qd                 copy                opcode              tkFileDialog\n",
      "_Qdoffs             copy_reg            openpyxl            tkFont\n",
      "_Qt                 crypt               operator            tkMessageBox\n",
      "_Res                csv                 optparse            tkSimpleDialog\n",
      "_Scrap              ctypes              os                  tldr\n",
      "_Snd                curses              os2emxpath          toaiff\n",
      "_TE                 cythonmagic         pandas              token\n",
      "_Win                datetime            parallelmagic       tokenize\n",
      "__builtin__         dateutil            parser              tornado\n",
      "__future__          dbhash              pbr                 trace\n",
      "_abcoll             dbm                 pdb                 traceback\n",
      "_ast                decimal             pickle              ttk\n",
      "_bisect             difflib             pickletools         tty\n",
      "_builtinSuites      dircache            pimp                turtle\n",
      "_cffi_backend       dis                 pip                 tweepy\n",
      "_codecs             distutils           pipes               types\n",
      "_codecs_cn          doctest             pkg_resources       unicodedata\n",
      "_codecs_hk          docutils            pkgutil             unittest\n",
      "_codecs_iso2022     dumbdbm             platform            urllib\n",
      "_codecs_jp          dummy_thread        plistlib            urllib2\n",
      "_codecs_kr          dummy_threading     popen2              urllib3\n",
      "_codecs_tw          easy_install        poplib              urlparse\n",
      "_collections        email               posix               user\n",
      "_csv                encodings           posixfile           uu\n",
      "_ctypes             ensurepip           posixpath           uuid\n",
      "_ctypes_test        errno               powerline           vboxapi\n",
      "_curses             et_xmfile           pprint              vboxshell\n",
      "_curses_panel       examples            profile             videoreader\n",
      "_elementtree        exceptions          pstats              virtualenv\n",
      "_functools          fcntl               pty                 virtualenv_support\n",
      "_hashlib            filecmp             ptyprocess          warnings\n",
      "_heapq              fileinput           pwd                 wave\n",
      "_hotshot            findertools         py_compile          weakref\n",
      "_io                 fnmatch             pyclbr              webbrowser\n",
      "_json               formatter           pycparser           whichdb\n",
      "_locale             fpformat            pydoc               wsgiref\n",
      "_lsprof             fractions           pydoc_data          xdrlib\n",
      "_markerlib          ftplib              pyexpat             xlrd\n",
      "_multibytecodec     funcsigs            pygments            xml\n",
      "_multiprocessing    functools           pylab               xmllib\n",
      "_osx_support        future_builtins     pyparsing           xmlrpclib\n",
      "_pyio               gc                  pytz                xxsubtype\n",
      "_random             gdbm                quopri              zipfile\n",
      "_scproxy            genericpath         random              zipimport\n",
      "_socket             gensuitemodule      re                  zlib\n",
      "_sqlite3            gestalt             readline            zmq\n",
      "\n",
      "Enter any module name to get more help.  Or, type \"modules spam\" to search\n",
      "for modules whose descriptions contain the word \"spam\".\n",
      "\n"
     ]
    },
    {
     "name": "stderr",
     "output_type": "stream",
     "text": [
      "/usr/local/lib/python2.7/site-packages/pandas/rpy/__init__.py:11: FutureWarning: The pandas.rpy module is deprecated and will be removed in a future version. We refer to external packages like rpy2. \n",
      "See here for a guide on how to port your code to rpy2: http://pandas.pydata.org/pandas-docs/stable/r_interface.html\n",
      "  FutureWarning)\n"
     ]
    }
   ],
   "source": [
    "help('modules')"
   ]
  },
  {
   "cell_type": "code",
   "execution_count": 2,
   "metadata": {
    "collapsed": false
   },
   "outputs": [
    {
     "name": "stdout",
     "output_type": "stream",
     "text": [
      "(u' Nickel Creek - Spit On A Stranger - This Side', u\" Old 97's - Murder (or A Heart Attack) - Fight Songs\", u\" The Wood Brothers - Singin' To Strangers - Paradise\", u' The Stone Roses - She Bangs The Drums - The Stone Roses', u' Low - What Part of Me - Ones and Sixes', u' Low - What Part of Me - Ones and Sixes', u' Foo Fighters - Learn To Fly - There Is Nothing Left To Lose', u' David Bowie - Wild Is The Wind - Station To Station', u' Joe Walsh - Welcome To The Club - So What', u' Dar Williams - Spring St. - The Green World', u\" Patty Griffin - There Isn't One Way - Servant of Love\", u' Grace Potter - Empty Heart - Midnight', u\" Al Green - I'm Still In Love With You - I'm Still In Love With You\", u' R. E. M. - Shiny Happy People - Out Of Time', u' LCD Soundsystem - Time To Get Away [instr] - Sound Of Silver', u' John Mellencamp - The Real Life - The Lonesome Jubilee', u' Elvis Costello - Sneaky Feelings - My Aim Is True', u\" Taj Mahal - Ev'ry Wind (in The River) - Like Never Before\", u' Lana Del Rey - High By The Beach - Honeymoon', u' Gary Clark Jr. - The Healing - The Story of Sonny Boy Slim', u' John Hiatt - Damn This Town - Dirty Jeans And Mudslide Hymns', u' Bob Marley & The Wailers - Concrete Jungle - Catch A Fire', u' Tangerine Dream - Scuba Scuba - Underwater Twilight', u' Tangerine Dream - Scuba Scuba - Underwater Twilight', u' Counting Crows - Perfect Blue Buildings - August And Everything After', u' Bassh - Body - (single)', u' The Doobie Brothers - Dark Eyed Cajun Woman - The Captain And Me', u' David Gilmour - Rattle That Lock - Rattle That Lock', u' David Gilmour - Rattle That Lock - Rattle That Lock', u\" The Buzzcocks - Something's Gone Wrong Again - Singles Going Steady\", u' McClain Sullivan - Daylight - Rachel', u' Bruce Springsteen - Born To Run - Born To Run', u' Derek & The Dominos - Bell Bottom Blues [instr] - The Cream Of Clapton', u' Randy Newman - Dixie Flyer - Land Of Dreams', u\" Kurt Vile - Pretty Pimpin' - b'lieve i'm goin down...\", u' The Wallflowers - Three Marlenas - Bringing Down The Horse', u' New Order - Restless - Music Complete', u' Stevie Wonder - Too High - Innervisions', u' The Hold Steady - Hurricane J - Heaven Is Whenever', u' Keith Richards - Trouble - Crosseyed Heart', u' Brooks Williams - Frenzy At The Feeder - Little Lion', u' Brooks Williams - Frenzy At The Feeder - Little Lion', u' Fiddle Fever - Ashokan Farewell - Soundtrack-the Civil War', u' Fiddle Fever - Ashokan Farewell - Soundtrack-the Civil War', u' B. B. King - The Thrill Is Gone - Deuces Wild', u' Paul Simon - You Can Call Me Al - Graceland', u' Phil Cook - Great Tide - Southland Mission', u' Suzanne Vega - In Liverpool - 99.9 Fahrenheit Degrees', u' Santana - Samba Pa Ti - Abraxas', u' Jack Garratt - Weathered - single', u' Beck - Hell Yes [instr] - Guero', u' Destroyer - Dream Lover - Poison Season', u\" Led Zeppelin - Nobody's Fault But Mine - Presence\", u' David Bromberg - Kansas City - Wanted Dead Or Alive', u' Elliott Smith - Son Of Sam - Figure 8', u' Jimmy Reed - Bright Lights Big City - Blues Masters Vol 2: Postwar Chicago', u' Glen Hansard - Winning Streak - Didn\\u2019t He Ramble', u\" Aimee Mann - That's Just What You Are - I'm With Stupid\", u' Bonnie Raitt - Papa Come Quick - Luck Of The Draw')\n"
     ]
    }
   ],
   "source": [
    "from bs4 import BeautifulSoup\n",
    "import urllib2\n",
    "\n",
    "url='http://www.xpn.org/playlists/xpn2-playlist'\n",
    "page = urllib2.urlopen(url)\n",
    "\n",
    "\n",
    "soup = BeautifulSoup(page.read())\n",
    "\n",
    "list = [];\n",
    "for link in soup.find_all(\"li\", class_=\"song\"):\n",
    "     list.append(link.text.strip()[12:])\n",
    "a = tuple(list)\n",
    "print a"
   ]
  },
  {
   "cell_type": "code",
   "execution_count": 3,
   "metadata": {
    "collapsed": false
   },
   "outputs": [
    {
     "name": "stdout",
     "output_type": "stream",
     "text": [
      "(u'Redshift', u'Soft Summer Rain', u'Life to Come')\n",
      "(u'Dave Luxton', u'Live to Air Radio Concert', u'unreleased')\n",
      "(u'Arjen Schat', u'Stellar Parallax', u'Sonic Identity')\n",
      "(u' Jeffrey Koepper', u'Belief', u'Konnektions')\n",
      "(u' Jeffrey Koepper', u'Among Stars', u'Konnektions')\n",
      "(u' Bryan Carrigan', u'Frozen Meadow', u'Fall Into Winter')\n",
      "(u' Chronotope Project', u'The Scent of Evening Flowers', u'Dawn Treader')\n",
      "(u' Ludovico Einaudi', u'Twice', u'Elements')\n",
      "(u' Paul Ellis', u'Lights of a Departing Train', u'Moth in Flames')\n",
      "(u'e Dimensions|', u'Blue Dimensions #D42 10-25-2015', u'host: Jonny Meister')\n"
     ]
    }
   ],
   "source": [
    "from bs4 import BeautifulSoup\n",
    "import urllib2\n",
    "from collections import namedtuple\n",
    "\n",
    "url='http://www.xpn.org/playlists/xpn-playlist'\n",
    "page = urllib2.urlopen(url)\n",
    "\n",
    "\n",
    "soup = BeautifulSoup(page.read())\n",
    "\n",
    "songs=[]\n",
    "Song = namedtuple(\"Song\", \"artist name album\")\n",
    "for link in soup.find_all(\"li\", class_=\"song\"):\n",
    "  try:\n",
    "    song = Song._make(link.text.strip()[4:].split(\" - \"))\n",
    "    songs.append(song)\n",
    "  except TypeError:\n",
    "    print \"skipped\"\n",
    "\n",
    "for song in songs:\n",
    "    print(song.artist, song.name, song.album)"
   ]
  },
  {
   "cell_type": "code",
   "execution_count": 1,
   "metadata": {
    "collapsed": false
   },
   "outputs": [
    {
     "name": "stdout",
     "output_type": "stream",
     "text": [
      "(u'Artist: Redshift ', u' Soft Summer Rain ', u' Life to Come')\n",
      "(u'Artist: Dave Luxton ', u' Live to Air Radio Concert ', u' unreleased')\n",
      "(u'Artist: Arjen Schat ', u' Stellar Parallax ', u' Sonic Identity')\n",
      "(u'Artist:  Jeffrey Koepper ', u' Belief ', u' Konnektions')\n",
      "(u'Artist:  Jeffrey Koepper ', u' Among Stars ', u' Konnektions')\n",
      "(u'Artist:  Bryan Carrigan ', u' Frozen Meadow ', u' Fall Into Winter')\n",
      "(u'Artist:  Chronotope Project ', u' The Scent of Evening Flowers ', u' Dawn Treader')\n",
      "(u'Artist:  Ludovico Einaudi ', u' Twice ', u' Elements')\n",
      "(u'Artist:  Paul Ellis ', u' Lights of a Departing Train ', u' Moth in Flames')\n"
     ]
    },
    {
     "name": "stderr",
     "output_type": "stream",
     "text": [
      "/usr/local/lib/python2.7/site-packages/bs4/__init__.py:166: UserWarning: No parser was explicitly specified, so I'm using the best available HTML parser for this system (\"html.parser\"). This usually isn't a problem, but if you run this code on another system, or in a different virtual environment, it may use a different parser and behave differently.\n",
      "\n",
      "To get rid of this warning, change this:\n",
      "\n",
      " BeautifulSoup([your markup])\n",
      "\n",
      "to this:\n",
      "\n",
      " BeautifulSoup([your markup], \"html.parser\")\n",
      "\n",
      "  markup_type=markup_type))\n"
     ]
    }
   ],
   "source": [
    "from bs4 import BeautifulSoup\n",
    "import urllib2\n",
    "from collections import namedtuple\n",
    "\n",
    "url='http://www.xpn.org/playlists/xpn-playlist'\n",
    "page = urllib2.urlopen(url)\n",
    "\n",
    "\n",
    "soup = BeautifulSoup(page.read())\n",
    "\n",
    "songs=[]\n",
    "Song = namedtuple(\"Song\", \"artist name album\")\n",
    "for link in soup.find_all(\"li\", class_=\"song\"):\n",
    "  song_info = link.text.strip()[4:].split(\"-\")\n",
    "  if len(song_info) == 3:\n",
    "    songs.append(Song(*song_info))\n",
    "\n",
    "for song in songs:\n",
    "    print(\"Artist: \" + song.artist, song.name, song.album)"
   ]
  },
  {
   "cell_type": "code",
   "execution_count": null,
   "metadata": {
    "collapsed": true
   },
   "outputs": [],
   "source": []
  }
 ],
 "metadata": {
  "kernelspec": {
   "display_name": "Python 2",
   "language": "python",
   "name": "python2"
  },
  "language_info": {
   "codemirror_mode": {
    "name": "ipython",
    "version": 2
   },
   "file_extension": ".py",
   "mimetype": "text/x-python",
   "name": "python",
   "nbconvert_exporter": "python",
   "pygments_lexer": "ipython2",
   "version": "2.7.9"
  }
 },
 "nbformat": 4,
 "nbformat_minor": 0
}
