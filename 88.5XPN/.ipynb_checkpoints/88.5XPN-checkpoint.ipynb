{
 "cells": [
  {
   "cell_type": "code",
   "execution_count": 3,
   "metadata": {
    "collapsed": false
   },
   "outputs": [
    {
     "name": "stdout",
     "output_type": "stream",
     "text": [
      "\n",
      "Please wait a moment while I gather a list of all available modules...\n",
      "\n",
      "Audio_mac           _sre                getopt              repr\n",
      "BaseHTTPServer      _ssl                getpass             requests\n",
      "Bastion             _strptime           gettext             requests_oauthlib\n",
      "CGIHTTPServer       _struct             glob                resource\n",
      "Canvas              _symtable           gnureadline         rexec\n",
      "Carbon              _sysconfigdata      grp                 rfc822\n",
      "CodeWarrior         _testcapi           gzip                rlcompleter\n",
      "ColorPicker         _threading_local    hashlib             rmagic\n",
      "ConfigParser        _tkinter            heapq               robotparser\n",
      "Cookie              _vendor             hmac                runpy\n",
      "Dialog              _warnings           hotshot             sched\n",
      "DocXMLRPCServer     _weakref            htmlentitydefs      select\n",
      "EasyDialogs         _weakrefset         htmllib             sets\n",
      "Explorer            abc                 httplib             setuptools\n",
      "FileDialog          aepack              ic                  sgmllib\n",
      "Finder              aetools             icglue              sha\n",
      "FixTk               aetypes             icopen              shelve\n",
      "FrameWork           aifc                idlelib             shlex\n",
      "HTMLParser          alabaster           ihooks              shutil\n",
      "IN                  antigravity         imaplib             signal\n",
      "IPython             anydbm              imghdr              site\n",
      "MacOS               applesingle         imp                 sitecustomize\n",
      "MimeWriter          appletrawmain       importlib           six\n",
      "MiniAEFrame         appletrunner        imputil             smtpd\n",
      "Nav                 argparse            inspect             smtplib\n",
      "Netscape            argvemulator        io                  sndhdr\n",
      "OSATerminology      array               itertools           snowballstemmer\n",
      "PixMapWrapper       ast                 jdcal               socket\n",
      "Queue               asynchat            jinja2              sphinx\n",
      "ScrolledText        asyncore            json                sphinx_rtd_theme\n",
      "SimpleDialog        atexit              jsonschema          sqlite3\n",
      "SimpleHTTPServer    audiodev            keyword             sre\n",
      "SimpleXMLRPCServer  audioop             lib2to3             sre_compile\n",
      "SocketServer        autoGIL             linecache           sre_constants\n",
      "StdSuites           autoreload          locale              sre_parse\n",
      "StringIO            babel               logging             ssl\n",
      "SystemEvents        backports           macerrors           stat\n",
      "Terminal            base64              macostools          statvfs\n",
      "Tix                 bdb                 macpath             storemagic\n",
      "Tkconstants         bgenlocations       macresource         string\n",
      "Tkdnd               binascii            macurl2path         stringold\n",
      "Tkinter             binhex              mailbox             stringprep\n",
      "UserDict            bisect              mailcap             strop\n",
      "UserList            bs4                 markupbase          struct\n",
      "UserString          bsddb               markupsafe          subprocess\n",
      "VBoxPython2_5       bsddb185            marshal             sunau\n",
      "VBoxPython2_6       buildtools          math                sunaudio\n",
      "VBoxPython2_7       bundlebuilder       matplotlib          symbol\n",
      "_AE                 bz2                 md5                 sympyprinting\n",
      "_AH                 cPickle             mhlib               symtable\n",
      "_App                cProfile            mimetools           sys\n",
      "_CF                 cStringIO           mimetypes           sysconfig\n",
      "_CG                 calendar            mimify              syslog\n",
      "_CarbonEvt          certifi             mistune             tabnanny\n",
      "_Cm                 cfmfile             mmap                tarfile\n",
      "_Ctl                cgi                 mock                telnetlib\n",
      "_Dlg                cgitb               modulefinder        tempfile\n",
      "_Drag               chunk               multifile           termcolor\n",
      "_Evt                cmath               multiprocessing     terminado\n",
      "_File               cmd                 mutex               terminalcommand\n",
      "_Fm                 code                ndiff               termios\n",
      "_Folder             codecs              netrc               test\n",
      "_Help               codeop              new                 tests\n",
      "_IBCarbon           collections         nis                 textwrap\n",
      "_Icn                colorsys            nntplib             this\n",
      "_LWPCookieJar       command             nose                thread\n",
      "_Launch             commands            ntpath              threading\n",
      "_List               compileall          nturl2path          time\n",
      "_Menu               compiler            numbers             timeit\n",
      "_Mlte               contextlib          numpy               tkColorChooser\n",
      "_MozillaCookieJar   cookielib           numpydoc            tkCommonDialog\n",
      "_OSA                copy                oauthlib            tkFileDialog\n",
      "_Qd                 copy_reg            opcode              tkFont\n",
      "_Qdoffs             crypt               openpyxl            tkMessageBox\n",
      "_Qt                 csv                 operator            tkSimpleDialog\n",
      "_Res                ctypes              optparse            tldr\n",
      "_Scrap              curses              os                  toaiff\n",
      "_Snd                cythonmagic         os2emxpath          token\n",
      "_TE                 datetime            pandas              tokenize\n",
      "_Win                dateutil            parallelmagic       tornado\n",
      "__builtin__         dbhash              parser              trace\n",
      "__future__          dbm                 pbr                 traceback\n",
      "_abcoll             decimal             pdb                 ttk\n",
      "_ast                difflib             pickle              tty\n",
      "_bisect             dircache            pickletools         turtle\n",
      "_builtinSuites      dis                 pimp                tweepy\n",
      "_codecs             distutils           pip                 types\n",
      "_codecs_cn          doctest             pipes               unicodedata\n",
      "_codecs_hk          docutils            pkg_resources       unittest\n",
      "_codecs_iso2022     dumbdbm             pkgutil             urllib\n",
      "_codecs_jp          dummy_thread        platform            urllib2\n",
      "_codecs_kr          dummy_threading     plistlib            urlparse\n",
      "_codecs_tw          easy_install        popen2              user\n",
      "_collections        email               poplib              uu\n",
      "_csv                encodings           posix               uuid\n",
      "_ctypes             ensurepip           posixfile           vboxapi\n",
      "_ctypes_test        errno               posixpath           vboxshell\n",
      "_curses             et_xmfile           powerline           videoreader\n",
      "_curses_panel       examples            pprint              virtualenv\n",
      "_elementtree        exceptions          profile             virtualenv_support\n",
      "_functools          fcntl               pstats              warnings\n",
      "_hashlib            filecmp             pty                 wave\n",
      "_heapq              fileinput           ptyprocess          weakref\n",
      "_hotshot            findertools         pwd                 webbrowser\n",
      "_io                 fnmatch             py_compile          whichdb\n",
      "_json               formatter           pyclbr              wsgiref\n",
      "_locale             fpformat            pydoc               xdrlib\n",
      "_lsprof             fractions           pydoc_data          xlrd\n",
      "_markerlib          ftplib              pyexpat             xml\n",
      "_multibytecodec     funcsigs            pygments            xmllib\n",
      "_multiprocessing    functools           pylab               xmlrpclib\n",
      "_osx_support        future_builtins     pyparsing           xxsubtype\n",
      "_pyio               gc                  pytz                zipfile\n",
      "_random             gdbm                quopri              zipimport\n",
      "_scproxy            genericpath         random              zlib\n",
      "_socket             gensuitemodule      re                  zmq\n",
      "_sqlite3            gestalt             readline            \n",
      "\n",
      "Enter any module name to get more help.  Or, type \"modules spam\" to search\n",
      "for modules whose descriptions contain the word \"spam\".\n",
      "\n"
     ]
    }
   ],
   "source": [
    "help('modules')"
   ]
  },
  {
   "cell_type": "code",
   "execution_count": 15,
   "metadata": {
    "collapsed": false
   },
   "outputs": [
    {
     "name": "stdout",
     "output_type": "stream",
     "text": [
      "<li class=\"song\">|Echoes| - Echoes #1542C Wednesday 10-21-2015 Hour 2, Part 2 - Host: John Diliberto</li>\n",
      "<li class=\"song\">|Echoes| - Echoes #1542C Wednesday 10-21-2015 Hour 2, Part 1 - Host: John Diliberto</li>\n"
     ]
    }
   ],
   "source": [
    "from bs4 import BeautifulSoup\n",
    "import urllib2\n",
    "\n",
    "url='http://www.xpn.org/playlists/xpn-playlist'\n",
    "page = urllib2.urlopen(url)\n",
    "\n",
    "\n",
    "soup = BeautifulSoup(page.read())\n",
    "\n",
    "\n",
    "for link in soup.find_all(\"li\", class_=\"song\"):\n",
    "    print link"
   ]
  },
  {
   "cell_type": "code",
   "execution_count": null,
   "metadata": {
    "collapsed": true
   },
   "outputs": [],
   "source": []
  }
 ],
 "metadata": {
  "kernelspec": {
   "display_name": "Python 2",
   "language": "python",
   "name": "python2"
  },
  "language_info": {
   "codemirror_mode": {
    "name": "ipython",
    "version": 2
   },
   "file_extension": ".py",
   "mimetype": "text/x-python",
   "name": "python",
   "nbconvert_exporter": "python",
   "pygments_lexer": "ipython2",
   "version": "2.7.9"
  }
 },
 "nbformat": 4,
 "nbformat_minor": 0
}
