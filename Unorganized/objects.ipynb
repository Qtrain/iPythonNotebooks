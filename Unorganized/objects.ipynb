{
 "cells": [
  {
   "cell_type": "markdown",
   "metadata": {},
   "source": [
    "#Objects"
   ]
  },
  {
   "cell_type": "markdown",
   "metadata": {},
   "source": [
    "<p>Suppose we want to model a bank account with support for deposit and withdraw operations. One way to do that is by using global state as shown in the following example.</p>"
   ]
  },
  {
   "cell_type": "code",
   "execution_count": 4,
   "metadata": {
    "collapsed": false
   },
   "outputs": [
    {
     "data": {
      "text/plain": [
       "100"
      ]
     },
     "execution_count": 4,
     "metadata": {},
     "output_type": "execute_result"
    }
   ],
   "source": [
    "balance = 0\n",
    "def deposit(amt):\n",
    "    global balance\n",
    "    balance = balance + amt\n",
    "    return balance\n",
    "    \n",
    "def withdraw(amt):\n",
    "    global balance\n",
    "    balance = balance - amt\n",
    "    return balance\n",
    "\n",
    "deposit(100)\n"
   ]
  },
  {
   "cell_type": "code",
   "execution_count": 5,
   "metadata": {
    "collapsed": false
   },
   "outputs": [
    {
     "data": {
      "text/plain": [
       "0"
      ]
     },
     "execution_count": 5,
     "metadata": {},
     "output_type": "execute_result"
    }
   ],
   "source": [
    "withdraw(100)"
   ]
  },
  {
   "cell_type": "markdown",
   "metadata": {},
   "source": [
    "<p>The above example is good enough only if we want to have just a single account. Things start getting complicated if want to model multiple accounts.  We can solve the problem by making the state local, probably by using a dictionary to store the state.</p>"
   ]
  },
  {
   "cell_type": "code",
   "execution_count": 9,
   "metadata": {
    "collapsed": false
   },
   "outputs": [
    {
     "data": {
      "text/plain": [
       "100"
      ]
     },
     "execution_count": 9,
     "metadata": {},
     "output_type": "execute_result"
    }
   ],
   "source": [
    "def make_account():\n",
    "    return {'balance' : 0}\n",
    "\n",
    "def deposit(account, amt):\n",
    "    account['balance'] += amt\n",
    "    return account['balance']\n",
    "    \n",
    "def withdraw(account, amt):\n",
    "    account['balance'] -= amt\n",
    "    return account['balance']\n",
    "\n",
    "a = make_account()\n",
    "b = make_account()\n",
    "\n",
    "deposit(a, 100)"
   ]
  },
  {
   "cell_type": "markdown",
   "metadata": {},
   "source": [
    "####Using classes with Objects\n",
    "\n",
    "[What does <code>_init_</code> and <code>self</code> do?](http://stackoverflow.com/questions/625083/python-init-and-self-what-do-they-do)"
   ]
  },
  {
   "cell_type": "code",
   "execution_count": null,
   "metadata": {
    "collapsed": true
   },
   "outputs": [],
   "source": [
    "class BankAccount:\n",
    "    def __init__(self):\n",
    "        self.balance=0"
   ]
  }
 ],
 "metadata": {
  "kernelspec": {
   "display_name": "Python 2",
   "language": "python",
   "name": "python2"
  },
  "language_info": {
   "codemirror_mode": {
    "name": "ipython",
    "version": 2
   },
   "file_extension": ".py",
   "mimetype": "text/x-python",
   "name": "python",
   "nbconvert_exporter": "python",
   "pygments_lexer": "ipython2",
   "version": "2.7.9"
  }
 },
 "nbformat": 4,
 "nbformat_minor": 0
}
