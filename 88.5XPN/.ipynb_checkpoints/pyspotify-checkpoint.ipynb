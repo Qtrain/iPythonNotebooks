{
 "cells": [
  {
   "cell_type": "code",
   "execution_count": null,
   "metadata": {
    "collapsed": true
   },
   "outputs": [],
   "source": [
    "%%capture myout"
   ]
  },
  {
   "cell_type": "code",
   "execution_count": null,
   "metadata": {
    "collapsed": false
   },
   "outputs": [],
   "source": [
    "import spotipy\n",
    "\n",
    "birdy_uri = 'spotify:artist:2WX2uTcsvV5OnS0inACecP'\n",
    "spotify = spotipy.Spotify()\n",
    "\n",
    "results = spotify.artist_albums(birdy_uri, album_type='album')\n",
    "albums = results['items']\n",
    "while results['next']:\n",
    "    results = spotify.next(results)\n",
    "    albums.extend(results['items'])\n",
    "\n",
    "for album in albums:\n",
    "    print(album['name'])\n"
   ]
  },
  {
   "cell_type": "code",
   "execution_count": 15,
   "metadata": {
    "collapsed": false
   },
   "outputs": [
    {
     "name": "stdout",
     "output_type": "stream",
     "text": [
      "track    : Stairway To Heaven\n",
      "audio    : https://p.scdn.co/mp3-preview/da57b9497b855355f1874eac17817d25eb90b71d\n",
      "cover art: https://i.scdn.co/image/5ef60ee8ba01f7042961420378733beb308e46f0\n",
      "\n",
      "track    : Ramble On\n",
      "audio    : https://p.scdn.co/mp3-preview/83383aceb01ea27b0bffdedfaebe55e29b33aca2\n",
      "cover art: https://i.scdn.co/image/5fa3a6cc1848ea743a293d2088046746d1b09608\n",
      "\n",
      "track    : Whole Lotta Love\n",
      "audio    : https://p.scdn.co/mp3-preview/ce11b19a4d2de9976d7626df0717d0073863909c\n",
      "cover art: https://i.scdn.co/image/5fa3a6cc1848ea743a293d2088046746d1b09608\n",
      "\n",
      "track    : Good Times Bad Times\n",
      "audio    : https://p.scdn.co/mp3-preview/c1f024eb57b569b926c8e68cab0a6056dc7d9654\n",
      "cover art: https://i.scdn.co/image/71e6a72a1b3a00d2ddabee9a3e2d5ade3be25409\n",
      "\n",
      "track    : Immigrant Song\n",
      "audio    : https://p.scdn.co/mp3-preview/9a4035acd7743242c6fefb26c14442b3fd34da44\n",
      "cover art: https://i.scdn.co/image/6ba168517b3965ba6067706ec213fba4dd52c532\n",
      "\n",
      "track    : Black Dog\n",
      "audio    : https://p.scdn.co/mp3-preview/4e2652580119834831c48a36385ff6925ed94bbb\n",
      "cover art: https://i.scdn.co/image/5ef60ee8ba01f7042961420378733beb308e46f0\n",
      "\n",
      "track    : Rock And Roll\n",
      "audio    : https://p.scdn.co/mp3-preview/35db3581cc5fde6b23c7904cefdaddc58b24ff75\n",
      "cover art: https://i.scdn.co/image/5ef60ee8ba01f7042961420378733beb308e46f0\n",
      "\n",
      "track    : Kashmir\n",
      "audio    : https://p.scdn.co/mp3-preview/13b2c47c98132f80a5ce12d8a4ceb192ba7a4345\n",
      "cover art: https://i.scdn.co/image/e9e82cfa89aaeb1f6b1f8756a98e40ccc65e8a01\n",
      "\n",
      "track    : Going To California\n",
      "audio    : https://p.scdn.co/mp3-preview/654f5b92f7357a753237ae39f0f1c969a81d8c18\n",
      "cover art: https://i.scdn.co/image/5ef60ee8ba01f7042961420378733beb308e46f0\n",
      "\n",
      "track    : Babe I'm Gonna Leave You\n",
      "audio    : https://p.scdn.co/mp3-preview/e82d356bea5c8244cee4e6d5447b46b87852dc11\n",
      "cover art: https://i.scdn.co/image/71e6a72a1b3a00d2ddabee9a3e2d5ade3be25409\n",
      "\n"
     ]
    }
   ],
   "source": [
    "import spotipy\n",
    "\n",
    "lz_uri = 'spotify:artist:36QJpDe2go2KgaRleHCDTp'\n",
    "\n",
    "spotify = spotipy.Spotify()\n",
    "results = spotify.artist_top_tracks(lz_uri)\n",
    "\n",
    "for track in results['tracks'][:10]:\n",
    "    print 'track    : ' + track['name']\n",
    "    print 'audio    : ' + track['preview_url']\n",
    "    print 'cover art: ' + track['album']['images'][0]['url']\n",
    "    print"
   ]
  },
  {
   "cell_type": "code",
   "execution_count": null,
   "metadata": {
    "collapsed": false
   },
   "outputs": [
    {
     "name": "stdout",
     "output_type": "stream",
     "text": [
      "\n",
      "\n",
      "            User authentication requires interaction with your\n",
      "            web browser. Once you enter your credentials and\n",
      "            give authorization, you will be redirected to\n",
      "            a url.  Paste that url you were directed to to\n",
      "            complete the authorization.\n",
      "\n",
      "        \n",
      "Opening https://accounts.spotify.com/authorize?scope=user-library-read&redirect_uri=http%3A%2F%2Flocalhost%3A8888%2Fnotebooks%2F88.5XPN%2Fpyspotify.ipynb&response_type=code&client_id=05c13668e5db496f867fa24cb5c1f12e in your browser\n",
      "\n",
      "\n"
     ]
    }
   ],
   "source": [
    "import sys\n",
    "import spotipy\n",
    "import spotipy.util as util\n",
    "\n",
    "scope = 'user-library-read'\n",
    "\n",
    "username = '1232493535'\n",
    "\n",
    "token = util.prompt_for_user_token(username, scope, client_id='05c13668e5db496f867fa24cb5c1f12e', client_secret='4ca2d9d6b2c24fee8577861ae5ed4c31', redirect_uri='http://localhost:8888/notebooks/88.5XPN/pyspotify.ipynb')\n",
    "\n",
    "if token:\n",
    "    sp = spotipy.Spotify(auth=token)\n",
    "    results = sp.current_user_saved_tracks()\n",
    "    for item in results['items']:\n",
    "        track = item['track']\n",
    "        print track['name'] + ' - ' + track['artists'][0]['name']\n",
    "else:\n",
    "    print \"Can't get token for\", username"
   ]
  },
  {
   "cell_type": "code",
   "execution_count": 5,
   "metadata": {
    "collapsed": false
   },
   "outputs": [
    {
     "name": "stdout",
     "output_type": "stream",
     "text": [
      "1232493535\n"
     ]
    }
   ],
   "source": [
    "print username"
   ]
  },
  {
   "cell_type": "code",
   "execution_count": 7,
   "metadata": {
    "collapsed": false
   },
   "outputs": [
    {
     "ename": "NameError",
     "evalue": "name 'track' is not defined",
     "output_type": "error",
     "traceback": [
      "\u001b[0;31m---------------------------------------------------------------------------\u001b[0m",
      "\u001b[0;31mNameError\u001b[0m                                 Traceback (most recent call last)",
      "\u001b[0;32m<ipython-input-7-f73095648731>\u001b[0m in \u001b[0;36m<module>\u001b[0;34m()\u001b[0m\n\u001b[0;32m----> 1\u001b[0;31m \u001b[0;32mprint\u001b[0m \u001b[0mtrack\u001b[0m\u001b[0;34m\u001b[0m\u001b[0m\n\u001b[0m",
      "\u001b[0;31mNameError\u001b[0m: name 'track' is not defined"
     ]
    }
   ],
   "source": [
    "print track"
   ]
  },
  {
   "cell_type": "code",
   "execution_count": null,
   "metadata": {
    "collapsed": true
   },
   "outputs": [],
   "source": [
    "import sys\n",
    "import spotipy\n",
    "import spotipy.util as util\n",
    "\n",
    "scope = 'user-library-read'\n",
    "\n",
    "username = '1232493535'\n",
    "\n",
    "token = util.prompt_for_user_token(username, scope, client_id='05c13668e5db496f867fa24cb5c1f12e', client_secret='4ca2d9d6b2c24fee8577861ae5ed4c31', redirect_uri='http://localhost:8888/notebooks/88.5XPN/pyspotify.ipynb')\n",
    "\n",
    "if token:\n",
    "    sp = spotipy.Spotify(auth=token)\n",
    "    playlists = sp.user_playlists(username)\n",
    "    for playlist in playlists['items']:\n",
    "        if playlist['owner']['id'] == username:\n",
    "                print\n",
    "                print playlist['name']\n",
    "                print '  total tracks', playlist['tracks']['total']\n",
    "                results = sp.user_playlist(username, playlist['id'],\n",
    "                    fields=\"tracks,next\")\n",
    "                tracks = results['tracks']\n",
    "                show_tracks(tracks)\n",
    "                while tracks['next']:\n",
    "                    tracks = sp.next(tracks)\n",
    "                    show_tracks(tracks)\n",
    "else:\n",
    "    print \"Can't get token for\", username\n"
   ]
  },
  {
   "cell_type": "code",
   "execution_count": null,
   "metadata": {
    "collapsed": true
   },
   "outputs": [],
   "source": []
  }
 ],
 "metadata": {
  "kernelspec": {
   "display_name": "Python 2",
   "language": "python",
   "name": "python2"
  }
 },
 "nbformat": 4,
 "nbformat_minor": 0
}
