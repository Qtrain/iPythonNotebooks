{
 "cells": [
  {
   "cell_type": "markdown",
   "metadata": {},
   "source": [
    "## L2 Branching Programs"
   ]
  },
  {
   "cell_type": "code",
   "execution_count": 2,
   "metadata": {
    "collapsed": false
   },
   "outputs": [
    {
     "data": {
      "text/html": [
       "\n",
       "        <iframe\n",
       "            width=\"400\"\n",
       "            height=\"300\"\n",
       "            src=\"https://www.youtube.com/embed/l4C_D90rBcY\"\n",
       "            frameborder=\"0\"\n",
       "            allowfullscreen\n",
       "        ></iframe>\n",
       "        "
      ],
      "text/plain": [
       "<IPython.lib.display.YouTubeVideo at 0x107330e50>"
      ]
     },
     "execution_count": 2,
     "metadata": {},
     "output_type": "execute_result"
    }
   ],
   "source": [
    "from IPython.display import YouTubeVideo\n",
    "# a talk about IPython at Sage Days at U. Washington, Seattle.\n",
    "# Video credit: William Stein.\n",
    "YouTubeVideo('l4C_D90rBcY')"
   ]
  },
  {
   "cell_type": "markdown",
   "metadata": {},
   "source": [
    "### L2 Problem 9"
   ]
  },
  {
   "cell_type": "code",
   "execution_count": 5,
   "metadata": {
    "collapsed": true
   },
   "outputs": [],
   "source": [
    "if 6 > 7:\n",
    "    print \"Yep\""
   ]
  },
  {
   "cell_type": "code",
   "execution_count": 6,
   "metadata": {
    "collapsed": false
   },
   "outputs": [
    {
     "name": "stdout",
     "output_type": "stream",
     "text": [
      "no\n"
     ]
    }
   ],
   "source": [
    "if 6 > 7:\n",
    "    print \"yep\"\n",
    "else:\n",
    "    print 'no'"
   ]
  },
  {
   "cell_type": "code",
   "execution_count": 7,
   "metadata": {
    "collapsed": false
   },
   "outputs": [
    {
     "name": "stdout",
     "output_type": "stream",
     "text": [
      "Regal!\n"
     ]
    }
   ],
   "source": [
    "var = 'Panda'\n",
    "if var == \"panda\":\n",
    "   print \"Cute!\"\n",
    "elif var == \"Panda\":\n",
    "   print \"Regal!\"\n",
    "else:\n",
    "   print \"Ugly...\""
   ]
  },
  {
   "cell_type": "code",
   "execution_count": 8,
   "metadata": {
    "collapsed": false
   },
   "outputs": [
    {
     "name": "stdout",
     "output_type": "stream",
     "text": [
      "Hot\n"
     ]
    }
   ],
   "source": [
    "temp = '32'\n",
    "if temp > 85:\n",
    "   print \"Hot\"\n",
    "elif temp > 62:\n",
    "   print \"Comfortable\" \n",
    "else:\n",
    "   print \"Cold\""
   ]
  },
  {
   "cell_type": "code",
   "execution_count": 9,
   "metadata": {
    "collapsed": false
   },
   "outputs": [
    {
     "name": "stdout",
     "output_type": "stream",
     "text": [
      "Hot\n"
     ]
    }
   ],
   "source": [
    "temp = 120\n",
    "if temp > 85:\n",
    "   print \"Hot\"\n",
    "elif temp > 100:\n",
    "   print \"REALLY HOT!\"\n",
    "elif temp > 60:\n",
    "   print \"Comfortable\" \n",
    "else:\n",
    "   print \"Cold\""
   ]
  },
  {
   "cell_type": "code",
   "execution_count": 10,
   "metadata": {
    "collapsed": false
   },
   "outputs": [
    {
     "name": "stdout",
     "output_type": "stream",
     "text": [
      "Cold\n"
     ]
    }
   ],
   "source": [
    "temp = 50\n",
    "if temp > 85:\n",
    "   print \"Hot\"\n",
    "elif temp > 100:\n",
    "   print \"REALLY HOT!\"\n",
    "elif temp > 60:\n",
    "   print \"Comfortable\"\n",
    "else:\n",
    "   print \"Cold\"\n",
    " "
   ]
  },
  {
   "cell_type": "markdown",
   "metadata": {},
   "source": [
    "### L2 Problem 10\n",
    "\n",
    "Write a piece of Python code that prints out the string 'hello world' if the value of an integer variable, happy, is strictly greater than 2."
   ]
  },
  {
   "cell_type": "code",
   "execution_count": 36,
   "metadata": {
    "collapsed": false
   },
   "outputs": [],
   "source": [
    "def happy(x):\n",
    "    if x > 2:\n",
    "        print 'hello world'\n",
    "    else:\n",
    "        print 'nope'"
   ]
  },
  {
   "cell_type": "code",
   "execution_count": 37,
   "metadata": {
    "collapsed": false
   },
   "outputs": [
    {
     "name": "stdout",
     "output_type": "stream",
     "text": [
      "nope\n",
      "nope\n"
     ]
    }
   ],
   "source": [
    "happy(1)\n",
    "happy(2)"
   ]
  },
  {
   "cell_type": "code",
   "execution_count": 38,
   "metadata": {
    "collapsed": false
   },
   "outputs": [
    {
     "name": "stdout",
     "output_type": "stream",
     "text": [
      "hello world\n"
     ]
    }
   ],
   "source": [
    "happy(3)"
   ]
  },
  {
   "cell_type": "code",
   "execution_count": 51,
   "metadata": {
    "collapsed": false
   },
   "outputs": [
    {
     "name": "stdout",
     "output_type": "stream",
     "text": [
      "4.23890195765\n",
      "3.98347213067\n",
      "7.54905044163\n",
      "1.28710364632\n",
      "2.70429908089\n",
      "8.65405873088\n",
      "5.53660684394\n",
      "4.77426913252\n",
      "2.73216412241\n",
      "3.97181097816\n"
     ]
    }
   ],
   "source": [
    "# https://docs.python.org/3.1/library/random.html\n",
    "# https://wiki.python.org/moin/ForLoop\n",
    "    \n",
    "\n",
    "import random\n",
    "\n",
    "def happyTest():\n",
    "  a = 0  \n",
    "  for i in range(10):  \n",
    "    i = random.uniform(1, 10)\n",
    "    a = i\n",
    "    print a\n",
    "    \n",
    "\n",
    "happyTest()\n",
    "    \n",
    "    "
   ]
  },
  {
   "cell_type": "markdown",
   "metadata": {},
   "source": [
    "### L2 Problem 11"
   ]
  },
  {
   "cell_type": "markdown",
   "metadata": {},
   "source": [
    "Assume that two variables, varA and varB, are assigned values, either numbers or strings.\n",
    "\n",
    "Write a piece of Python code that prints out one of the following messages:\n",
    "\n",
    "\"string involved\" if either varA or varB are strings\n",
    "\n",
    "\"bigger\" if varA is larger than varB\n",
    "\n",
    "\"equal\" if varA is equal to varB\n",
    "\n",
    "\"smaller\" if varA is smaller than varB\n",
    "\n",
    "For problems such as these, do not include raw_input statements or define the variable varA or varB. Our automating testing will provide values of varA and varB for you - so write your code in the following box assuming varA and varB are already defined."
   ]
  },
  {
   "cell_type": "code",
   "execution_count": 54,
   "metadata": {
    "collapsed": false
   },
   "outputs": [
    {
     "name": "stdout",
     "output_type": "stream",
     "text": [
      "smaller\n"
     ]
    }
   ],
   "source": [
    "varA = 2\n",
    "varB = 5\n",
    "\n",
    "if type(varA) == str or type(varB) == str:\n",
    "    print 'string involved'\n",
    "elif varA > varB:\n",
    "    print 'bigger'\n",
    "elif varA == varB:\n",
    "    print 'equal'\n",
    "else:\n",
    "    # If none of the above conditions are true,\n",
    "    # it must be the case that varA < varB\n",
    "    print 'smaller'"
   ]
  },
  {
   "cell_type": "code",
   "execution_count": null,
   "metadata": {
    "collapsed": true
   },
   "outputs": [],
   "source": []
  },
  {
   "cell_type": "code",
   "execution_count": null,
   "metadata": {
    "collapsed": true
   },
   "outputs": [],
   "source": []
  },
  {
   "cell_type": "code",
   "execution_count": null,
   "metadata": {
    "collapsed": true
   },
   "outputs": [],
   "source": []
  }
 ],
 "metadata": {
  "kernelspec": {
   "display_name": "Python 2",
   "language": "python",
   "name": "python2"
  },
  "language_info": {
   "codemirror_mode": {
    "name": "ipython",
    "version": 2
   },
   "file_extension": ".py",
   "mimetype": "text/x-python",
   "name": "python",
   "nbconvert_exporter": "python",
   "pygments_lexer": "ipython2",
   "version": "2.7.9"
  }
 },
 "nbformat": 4,
 "nbformat_minor": 0
}
