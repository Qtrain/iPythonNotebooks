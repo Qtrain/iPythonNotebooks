{
 "cells": [
  {
   "cell_type": "code",
   "execution_count": 5,
   "metadata": {
    "collapsed": false
   },
   "outputs": [
    {
     "name": "stdout",
     "output_type": "stream",
     "text": [
      "{u'width': 1050, u'height': 657}\n",
      "{u'width': 480, u'height': 320}\n",
      "{u'width': 1401, u'height': 877}\n"
     ]
    }
   ],
   "source": [
    "from selenium import webdriver\n",
    "\n",
    "# get initial window size\n",
    "driver = webdriver.Firefox()\n",
    "print driver.get_window_size()\n",
    "\n",
    "# set window size\n",
    "driver.set_window_size(480, 320)\n",
    "print driver.get_window_size()\n",
    "\n",
    "# maximize window\n",
    "driver.maximize_window()\n",
    "print driver.get_window_size()\n",
    "\n",
    "#driver.quit()"
   ]
  },
  {
   "cell_type": "code",
   "execution_count": null,
   "metadata": {
    "collapsed": true
   },
   "outputs": [],
   "source": []
  }
 ],
 "metadata": {
  "kernelspec": {
   "display_name": "Python 2",
   "language": "python",
   "name": "python2"
  },
  "language_info": {
   "codemirror_mode": {
    "name": "ipython",
    "version": 2
   },
   "file_extension": ".py",
   "mimetype": "text/x-python",
   "name": "python",
   "nbconvert_exporter": "python",
   "pygments_lexer": "ipython2",
   "version": "2.7.9"
  }
 },
 "nbformat": 4,
 "nbformat_minor": 0
}
