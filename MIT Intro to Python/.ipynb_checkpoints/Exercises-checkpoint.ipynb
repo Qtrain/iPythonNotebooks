{
 "cells": [
  {
   "cell_type": "markdown",
   "metadata": {},
   "source": [
    "# Testing Questions\n"
   ]
  },
  {
   "cell_type": "markdown",
   "metadata": {},
   "source": [
    "#####Write an iterative fibonacci sequence that prints up to n"
   ]
  },
  {
   "cell_type": "code",
   "execution_count": 6,
   "metadata": {
    "collapsed": false
   },
   "outputs": [
    {
     "ename": "IndentationError",
     "evalue": "unexpected indent (<ipython-input-6-e0660eec984e>, line 5)",
     "output_type": "error",
     "traceback": [
      "\u001b[0;36m  File \u001b[0;32m\"<ipython-input-6-e0660eec984e>\"\u001b[0;36m, line \u001b[0;32m5\u001b[0m\n\u001b[0;31m    a, b = 0, 1\u001b[0m\n\u001b[0m    ^\u001b[0m\n\u001b[0;31mIndentationError\u001b[0m\u001b[0;31m:\u001b[0m unexpected indent\n"
     ]
    }
   ],
   "source": [
    "import profile\n",
    "\n",
    "def fib(n):    # write Fibonacci series up to n\n",
    " \"\"\"Print a Fibonacci series up to n.\"\"\"\n",
    "  a, b = 0, 1\n",
    "    while a < n:\n",
    "        print a, b = b, a+b\n",
    "fib(5)\n",
    "\n",
    "print '=' * 80\n",
    "profile.run('print fib(12); print')"
   ]
  },
  {
   "cell_type": "markdown",
   "metadata": {},
   "source": [
    "####Write a recursive fibonacci sequence"
   ]
  },
  {
   "cell_type": "markdown",
   "metadata": {},
   "source": [
    "<p>Here we are using profile to find out the running time for the fib sequence algorithm</p>\n",
    "\n",
    "<h5>Questions:</h5>\n",
    "* what is the profile module\n",
    "* how do I understand the output"
   ]
  },
  {
   "cell_type": "code",
   "execution_count": 15,
   "metadata": {
    "collapsed": false
   },
   "outputs": [
    {
     "name": "stdout",
     "output_type": "stream",
     "text": [
      "144\n",
      "================================================================================\n",
      "         468 function calls (4 primitive calls) in 0.003 seconds\n",
      "\n",
      "   Ordered by: standard name\n",
      "\n",
      "   ncalls  tottime  percall  cumtime  percall filename:lineno(function)\n",
      "        1    0.000    0.000    0.000    0.000 :0(setprofile)\n",
      "    465/1    0.003    0.000    0.003    0.003 <ipython-input-15-2531998ece63>:10(fib)\n",
      "        1    0.000    0.000    0.003    0.003 <string>:1(<module>)\n",
      "        1    0.000    0.000    0.003    0.003 profile:0(fib(12))\n",
      "        0    0.000             0.000          profile:0(profiler)\n",
      "\n",
      "\n"
     ]
    }
   ],
   "source": [
    "\"\"\"\n",
    "\n",
    "___0__1__2__3__4__5__6__7__8__\n",
    "| 0| !| 1| 2| 3| 5| 8| 13| 21|\n",
    "\n",
    "\n",
    "\"\"\"\n",
    "import profile\n",
    "\n",
    "def fib(x):\n",
    "    \"\"\"assumes x an int >= 0\n",
    "       returns Fibonacci of x\"\"\"\n",
    "    assert type(x) == int and x >= 0\n",
    "    if x == 0:\n",
    "        return 0\n",
    "    elif x == 1:\n",
    "        return 1\n",
    "    else:\n",
    "        return fib(x-1) + fib(x-2)\n",
    "\n",
    "print fib(12)\n",
    "print '=' * 80\n",
    "profile.run('fib(12)')"
   ]
  },
  {
   "cell_type": "markdown",
   "metadata": {
    "collapsed": true
   },
   "source": [
    "#### Compute a simple sequence"
   ]
  },
  {
   "cell_type": "code",
   "execution_count": 1,
   "metadata": {
    "collapsed": false
   },
   "outputs": [
    {
     "name": "stdout",
     "output_type": "stream",
     "text": [
      "5\n"
     ]
    }
   ],
   "source": [
    "result = 0\n",
    "\n",
    "def sequenc(i,n):\n",
    "    for result in range(n):\n",
    "        result += n\n",
    "        \n",
    "    print result\n",
    "    \n",
    "sequenc(0,3)\n",
    "    "
   ]
  },
  {
   "cell_type": "markdown",
   "metadata": {
    "collapsed": true
   },
   "source": [
    "#### Generate a random roll of a die"
   ]
  },
  {
   "cell_type": "code",
   "execution_count": 16,
   "metadata": {
    "collapsed": false
   },
   "outputs": [
    {
     "name": "stdout",
     "output_type": "stream",
     "text": [
      "4\n"
     ]
    }
   ],
   "source": [
    "import random\n",
    "\n",
    "def rollDie():\n",
    "\n",
    "    for i in xrange(0, 10, 2):\n",
    "        i = random.choice([1,2,3,4,5,6])\n",
    "    print i\n",
    "\n",
    "rollDie()"
   ]
  },
  {
   "cell_type": "code",
   "execution_count": null,
   "metadata": {
    "collapsed": true
   },
   "outputs": [],
   "source": []
  }
 ],
 "metadata": {
  "kernelspec": {
   "display_name": "Python 2",
   "language": "python",
   "name": "python2"
  },
  "language_info": {
   "codemirror_mode": {
    "name": "ipython",
    "version": 2
   },
   "file_extension": ".py",
   "mimetype": "text/x-python",
   "name": "python",
   "nbconvert_exporter": "python",
   "pygments_lexer": "ipython2",
   "version": "2.7.9"
  }
 },
 "nbformat": 4,
 "nbformat_minor": 0
}
