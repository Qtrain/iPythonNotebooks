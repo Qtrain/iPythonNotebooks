{
 "cells": [
  {
   "cell_type": "markdown",
   "metadata": {},
   "source": [
    "## Simple algo examples"
   ]
  },
  {
   "cell_type": "code",
   "execution_count": null,
   "metadata": {
    "collapsed": false
   },
   "outputs": [],
   "source": [
    "num = 5\n",
    "if num > 2:\n",
    "    print num\n",
    "    num -= 1\n",
    "print num"
   ]
  },
  {
   "cell_type": "code",
   "execution_count": null,
   "metadata": {
    "collapsed": false
   },
   "outputs": [],
   "source": [
    "num = 0\n",
    "while num <= 5:\n",
    "    print num\n",
    "    num += 1\n",
    "\n",
    "print \"Outside of loop\"\n",
    "print num "
   ]
  },
  {
   "cell_type": "code",
   "execution_count": null,
   "metadata": {
    "collapsed": true
   },
   "outputs": [],
   "source": [
    "# doesn't work/don't run\n",
    "\n",
    "numberOfLoops = 0\n",
    "numberOfApples = 2\n",
    "while numberOfLoops < 10:\n",
    "    numberOfApples *= 2\n",
    "    numberOfApples += numberOfLoops\n",
    "    numberOfLoops -= 1\n",
    "print \"Number of apples: \" + str(numberOfApples)"
   ]
  },
  {
   "cell_type": "code",
   "execution_count": null,
   "metadata": {
    "collapsed": false
   },
   "outputs": [],
   "source": [
    "num = 10\n",
    "while num > 3:\n",
    "    num -= 1\n",
    "    print num "
   ]
  },
  {
   "cell_type": "code",
   "execution_count": null,
   "metadata": {
    "collapsed": false
   },
   "outputs": [],
   "source": [
    "num = 10\n",
    "while True:\n",
    "    if num < 7:\n",
    "        print 'Breaking out of loop'\n",
    "        break\n",
    "    print num\n",
    "    num -= 1\n",
    "print 'Outside of loop' "
   ]
  },
  {
   "cell_type": "code",
   "execution_count": null,
   "metadata": {
    "collapsed": true
   },
   "outputs": [],
   "source": [
    "# doesn't work/don't run\n",
    "\n",
    "num = 100\n",
    "while not False:\n",
    "    if num < 0:\n",
    "        break\n",
    "print 'num is: ' + str(num)"
   ]
  },
  {
   "cell_type": "code",
   "execution_count": 1,
   "metadata": {
    "collapsed": false
   },
   "outputs": [
    {
     "name": "stdout",
     "output_type": "stream",
     "text": [
      "4656\n"
     ]
    }
   ],
   "source": [
    "end = 96\n",
    "total = 0 # variable used to store state of answer (where else we going to store it?)\n",
    "current = 1 # a counter variable used for the test condition\n",
    "while current <= end: # the test condition\n",
    "    total += current # total = total + current\n",
    "    current += 1 # modifying the test condition within the loop\n",
    "print total # print the final answer outside the loop\n"
   ]
  },
  {
   "cell_type": "code",
   "execution_count": null,
   "metadata": {
    "collapsed": true
   },
   "outputs": [],
   "source": []
  }
 ],
 "metadata": {
  "kernelspec": {
   "display_name": "Python 2",
   "language": "python",
   "name": "python2"
  },
  "language_info": {
   "codemirror_mode": {
    "name": "ipython",
    "version": 2
   },
   "file_extension": ".py",
   "mimetype": "text/x-python",
   "name": "python",
   "nbconvert_exporter": "python",
   "pygments_lexer": "ipython2",
   "version": "2.7.9"
  }
 },
 "nbformat": 4,
 "nbformat_minor": 0
}
