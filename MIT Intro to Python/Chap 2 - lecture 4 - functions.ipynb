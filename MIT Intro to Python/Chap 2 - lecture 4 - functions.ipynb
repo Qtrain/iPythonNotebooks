{
 "cells": [
  {
   "cell_type": "markdown",
   "metadata": {},
   "source": [
    "Write a Python function, clip(lo, x, hi) that returns lo if x is less than lo; hi if x is greater than hi; and x otherwise. For this problem, you can assume that lo < hi.\n",
    "\n",
    "Don't use any conditional statements for this problem. Instead, use the built in Python functions min and max. You may wish to read the documentation on min and the documentation on max, and play around with these functions a bit in your interpreter, before beginning this problem."
   ]
  },
  {
   "cell_type": "code",
   "execution_count": 2,
   "metadata": {
    "collapsed": false
   },
   "outputs": [
    {
     "data": {
      "text/plain": [
       "6"
      ]
     },
     "execution_count": 2,
     "metadata": {},
     "output_type": "execute_result"
    }
   ],
   "source": [
    "def clip(lo, x, hi):\n",
    "    '''\n",
    "    Takes in three numbers and returns a value based on the value of x.\n",
    "    Returns:\n",
    "     - lo, when x < lo\n",
    "     - hi, when x > hi\n",
    "     - x, otherwise\n",
    "    '''\n",
    "    return min(max(x, lo), hi)\n",
    "\n",
    "clip(4, 6, 9)"
   ]
  },
  {
   "cell_type": "code",
   "execution_count": 3,
   "metadata": {
    "collapsed": false
   },
   "outputs": [
    {
     "data": {
      "text/plain": [
       "19"
      ]
     },
     "execution_count": 3,
     "metadata": {},
     "output_type": "execute_result"
    }
   ],
   "source": [
    "x = 12\n",
    "def g(x):\n",
    "      x = x + 1\n",
    "      def h(y):\n",
    "          return x + y\n",
    "      return h(6)\n",
    "g(x)"
   ]
  },
  {
   "cell_type": "code",
   "execution_count": 16,
   "metadata": {
    "collapsed": false
   },
   "outputs": [
    {
     "data": {
      "text/html": [
       "<iframe width=\"800\" height=\"500\" frameborder=\"0\" src=\"http://pythontutor.com/iframe-embed.html#code=x+%3D+12%0Adef+g(x%29%3A%0A++++++x+%3D+x+%2B+1%0A++++++def+h(y%29%3A%0A++++++++++return+x+%2B+y%0A++++++return+h(6%29%0Ag(x%29&origin=opt-frontend.js&cumulative=false&heapPrimitives=false&textReferences=false&py=2&rawInputLstJSON=%5B%5D&curInstr=0&codeDivWidth=350&codeDivHeight=400\"> </iframe>"
      ],
      "text/plain": [
       "<IPython.core.display.HTML object>"
      ]
     },
     "execution_count": 16,
     "metadata": {},
     "output_type": "execute_result"
    }
   ],
   "source": [
    "from IPython.core.display import HTML\n",
    "\n",
    "html_text = HTML('<iframe width=\"800\" height=\"500\" frameborder=\"0\" src=\"http://pythontutor.com/iframe-embed.html#code=x+%3D+12%0Adef+g(x%29%3A%0A++++++x+%3D+x+%2B+1%0A++++++def+h(y%29%3A%0A++++++++++return+x+%2B+y%0A++++++return+h(6%29%0Ag(x%29&origin=opt-frontend.js&cumulative=false&heapPrimitives=false&textReferences=false&py=2&rawInputLstJSON=%5B%5D&curInstr=0&codeDivWidth=350&codeDivHeight=400\"> </iframe>')\n",
    "\n",
    "html_text"
   ]
  },
  {
   "cell_type": "code",
   "execution_count": 14,
   "metadata": {
    "collapsed": false
   },
   "outputs": [
    {
     "name": "stdout",
     "output_type": "stream",
     "text": [
      "4.99992370605\n"
     ]
    }
   ],
   "source": [
    "def findRoot1(x, power, epsilon):\n",
    "    low = 0\n",
    "    high = x\n",
    "    ans = (high+low)/2.0\n",
    "    while abs(ans**power - x) > epsilon:\n",
    "        if ans**power < x:\n",
    "            low = ans\n",
    "        else:\n",
    "            high = ans\n",
    "        ans = (high+low)/2.0\n",
    "    return ans\n",
    "\n",
    "print findRoot1(25.0, 2, .001)\n",
    "##print findRoot1(27.0, 3, .001)\n",
    "##print findRoot1(-27.0, 3, .001)"
   ]
  },
  {
   "cell_type": "code",
   "execution_count": 15,
   "metadata": {
    "collapsed": false
   },
   "outputs": [
    {
     "data": {
      "text/html": [
       "<iframe width=\"800\" height=\"500\" frameborder=\"0\" src=\"http://pythontutor.com/iframe-embed.html#code=def+findRoot1(x,+power,+epsilon%29%3A%0A++++low+%3D+0%0A++++high+%3D+x%0A++++ans+%3D+(high%2Blow%29/2.0%0A++++while+abs(ans**power+-+x%29+%3E+epsilon%3A%0A++++++++if+ans**power+%3C+x%3A%0A++++++++++++low+%3D+ans%0A++++++++else%3A%0A++++++++++++high+%3D+ans%0A++++++++ans+%3D+(high%2Blow%29/2.0%0A++++return+ans%0A%0Aprint+findRoot1(25.0,+2,+.001%29%0A%23%23print+findRoot1(27.0,+3,+.001%29%0A%23%23print+findRoot1(-27.0,+3,+.001%29&origin=opt-frontend.js&cumulative=false&heapPrimitives=false&textReferences=false&py=2&rawInputLstJSON=%5B%5D&curInstr=29&codeDivWidth=350&codeDivHeight=400\"> </iframe>"
      ],
      "text/plain": [
       "<IPython.core.display.HTML object>"
      ]
     },
     "execution_count": 15,
     "metadata": {},
     "output_type": "execute_result"
    }
   ],
   "source": [
    "from IPython.core.display import HTML\n",
    "\n",
    "html_text = HTML('<iframe width=\"800\" height=\"500\" frameborder=\"0\" src=\"http://pythontutor.com/iframe-embed.html#code=def+findRoot1(x,+power,+epsilon%29%3A%0A++++low+%3D+0%0A++++high+%3D+x%0A++++ans+%3D+(high%2Blow%29/2.0%0A++++while+abs(ans**power+-+x%29+%3E+epsilon%3A%0A++++++++if+ans**power+%3C+x%3A%0A++++++++++++low+%3D+ans%0A++++++++else%3A%0A++++++++++++high+%3D+ans%0A++++++++ans+%3D+(high%2Blow%29/2.0%0A++++return+ans%0A%0Aprint+findRoot1(25.0,+2,+.001%29%0A%23%23print+findRoot1(27.0,+3,+.001%29%0A%23%23print+findRoot1(-27.0,+3,+.001%29&origin=opt-frontend.js&cumulative=false&heapPrimitives=false&textReferences=false&py=2&rawInputLstJSON=%5B%5D&curInstr=29&codeDivWidth=350&codeDivHeight=400\"> </iframe>')\n",
    "\n",
    "html_text"
   ]
  },
  {
   "cell_type": "code",
   "execution_count": null,
   "metadata": {
    "collapsed": true
   },
   "outputs": [],
   "source": []
  },
  {
   "cell_type": "code",
   "execution_count": 13,
   "metadata": {
    "collapsed": false
   },
   "outputs": [
    {
     "name": "stdout",
     "output_type": "stream",
     "text": [
      "4.99992370605\n",
      "2.99998474121\n",
      "-2.99998474121\n",
      "0.5\n",
      "-0.5\n"
     ]
    }
   ],
   "source": [
    "# From Lecture 4, Understanding Root Finding\n",
    "\n",
    "# root code\n",
    "\n",
    "def findRoot1(x, power, epsilon):\n",
    "    low = 0\n",
    "    high = x\n",
    "    ans = (high+low)/2.0\n",
    "    while abs(ans**power - x) > epsilon:\n",
    "        if ans**power < x:\n",
    "            low = ans\n",
    "        else:\n",
    "            high = ans\n",
    "        ans = (high+low)/2.0\n",
    "    return ans\n",
    "\n",
    "##print findRoot1(25.0, 2, .001)\n",
    "##print findRoot1(27.0, 3, .001)\n",
    "##print findRoot1(-27.0, 3, .001)\n",
    "\n",
    "\n",
    "# so can't find cube root of negative number\n",
    "\n",
    "def findRoot2(x, power, epsilon):\n",
    "    if x < 0 and power%2 == 0:\n",
    "        return None\n",
    "    # can't find even powered root of negative number\n",
    "    low = min(0, x)\n",
    "    high = max(0, x)\n",
    "    ans = (high+low)/2.0\n",
    "    while abs(ans**power - x) > epsilon:\n",
    "        if ans**power < x:\n",
    "            low = ans\n",
    "        else:\n",
    "            high = ans\n",
    "        ans = (high+low)/2.0\n",
    "    return ans\n",
    "\n",
    "##print findRoot2(25.0, 2, .001)\n",
    "##print findRoot2(27.0, 3, .001)\n",
    "##print findRoot2(-27.0, 3, .001)\n",
    "##\n",
    "##print findRoot2(0.25, 2, .001)\n",
    "##print findRoot2(-0.125, 3, .001)\n",
    "\n",
    "def findRoot3(x, power, epsilon):\n",
    "    if x < 0 and power%2 == 0:\n",
    "        return None\n",
    "    # can't find even powered root of negative number\n",
    "    low = min(-1.0, x)\n",
    "    high = max(1.0, x)\n",
    "    ans = (high+low)/2.0\n",
    "    while abs(ans**power - x) > epsilon:\n",
    "        if ans**power < x:\n",
    "            low = ans\n",
    "        else:\n",
    "            high = ans\n",
    "        ans = (high+low)/2.0\n",
    "    return ans\n",
    "\n",
    "print findRoot3(25.0, 2, .001)\n",
    "print findRoot3(27.0, 3, .001)\n",
    "print findRoot3(-27.0, 3, .001)\n",
    "\n",
    "print findRoot3(0.25, 2, .001)\n",
    "print findRoot3(-0.125, 3, .001)\n",
    "\n",
    "def testFindRoot():\n",
    "    epsilon = 0.0001\n",
    "    for x in (0.25, -0.25, 2, -2, 8, -8):\n",
    "        for power in range(1,4):\n",
    "            print('Testing x = ' + str(x) +\\\n",
    "                  ' and power = ' + str(power))\n",
    "            res = findRoot3(x, power, epsilon)\n",
    "            if res == None:\n",
    "                print('    No root')\n",
    "            else:\n",
    "                print('    ' + str(res**power) + ' ~= ' + str(x))\n",
    "\n",
    "\n",
    "\n",
    "\n"
   ]
  },
  {
   "cell_type": "code",
   "execution_count": null,
   "metadata": {
    "collapsed": true
   },
   "outputs": [],
   "source": []
  },
  {
   "cell_type": "code",
   "execution_count": null,
   "metadata": {
    "collapsed": true
   },
   "outputs": [],
   "source": []
  },
  {
   "cell_type": "code",
   "execution_count": null,
   "metadata": {
    "collapsed": true
   },
   "outputs": [],
   "source": []
  },
  {
   "cell_type": "code",
   "execution_count": null,
   "metadata": {
    "collapsed": true
   },
   "outputs": [],
   "source": []
  },
  {
   "cell_type": "code",
   "execution_count": null,
   "metadata": {
    "collapsed": true
   },
   "outputs": [],
   "source": []
  },
  {
   "cell_type": "code",
   "execution_count": null,
   "metadata": {
    "collapsed": true
   },
   "outputs": [],
   "source": []
  },
  {
   "cell_type": "code",
   "execution_count": null,
   "metadata": {
    "collapsed": true
   },
   "outputs": [],
   "source": []
  },
  {
   "cell_type": "code",
   "execution_count": null,
   "metadata": {
    "collapsed": true
   },
   "outputs": [],
   "source": []
  }
 ],
 "metadata": {
  "kernelspec": {
   "display_name": "Python 2",
   "language": "python",
   "name": "python2"
  },
  "language_info": {
   "codemirror_mode": {
    "name": "ipython",
    "version": 2
   },
   "file_extension": ".py",
   "mimetype": "text/x-python",
   "name": "python",
   "nbconvert_exporter": "python",
   "pygments_lexer": "ipython2",
   "version": "2.7.10"
  }
 },
 "nbformat": 4,
 "nbformat_minor": 0
}
