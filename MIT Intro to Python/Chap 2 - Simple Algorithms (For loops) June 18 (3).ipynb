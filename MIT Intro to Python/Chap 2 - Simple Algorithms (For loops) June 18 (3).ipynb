{
 "cells": [
  {
   "cell_type": "markdown",
   "metadata": {},
   "source": [
    "# For loops\n",
    "\n",
    "* While loops generate over a sequence of choices\n",
    "* Python has a specialized mechanism for this case, called a for loop\n",
    "\n",
    "###Syntax\n",
    "\n",
    "* for \"identifier\" in \"sequence\":\n",
    "    \"code block\"\n",
    "    \n",
    "####Structure:\n",
    "* Identifier bound to first value in sequene\n",
    "* Code block executed\n",
    "* Identifier bound to next value\n",
    "* Code block executed\n",
    "* Continues until sequence is exhausted or a break statement is executed\n",
    "* To generate a sequence of integers, use\n",
    "- range(n) = [0,1,2..,n-1]\n",
    "- range(m, n) = [m, m+1, m+2, .., n-1]\n",
    "\n",
    "###Contents \n",
    "1. Cube root finder"
   ]
  },
  {
   "cell_type": "code",
   "execution_count": 10,
   "metadata": {
    "collapsed": false
   },
   "outputs": [
    {
     "name": "stdout",
     "output_type": "stream",
     "text": [
      "Enter an integer: 678687\n",
      "678687 is not a perfect cube.\n"
     ]
    }
   ],
   "source": [
    "# Cube root finder\n",
    "\n",
    "x = int(raw_input('Enter an integer: '))\n",
    "\n",
    "# for \"identifier\" in \"range(start, stop)\n",
    "for ans in range(0, abs(x)+1): # generate a sequence of integers\n",
    "    if ans**3 == abs(x): # testing condition\n",
    "        break\n",
    "        # to next code block\n",
    "if ans**3 != abs(x):\n",
    "    print (str(x) + ' is not a perfect cube.')\n",
    "else:\n",
    "    if x < 0:\n",
    "        ans = -ans # changing the variable to test\n",
    "    print ('Cube root of ' + str(x) + ' is ' + str(ans))\n",
    "        "
   ]
  },
  {
   "cell_type": "code",
   "execution_count": null,
   "metadata": {
    "collapsed": true
   },
   "outputs": [],
   "source": []
  }
 ],
 "metadata": {
  "kernelspec": {
   "display_name": "Python 2",
   "language": "python",
   "name": "python2"
  },
  "language_info": {
   "codemirror_mode": {
    "name": "ipython",
    "version": 2
   },
   "file_extension": ".py",
   "mimetype": "text/x-python",
   "name": "python",
   "nbconvert_exporter": "python",
   "pygments_lexer": "ipython2",
   "version": "2.7.9"
  }
 },
 "nbformat": 4,
 "nbformat_minor": 0
}
